{
  "nbformat": 4,
  "nbformat_minor": 0,
  "metadata": {
    "kernelspec": {
      "display_name": "Python 3.6",
      "language": "python",
      "name": "python3"
    },
    "language_info": {
      "codemirror_mode": {
        "name": "ipython",
        "version": 3
      },
      "file_extension": ".py",
      "mimetype": "text/x-python",
      "name": "python",
      "nbconvert_exporter": "python",
      "pygments_lexer": "ipython3",
      "version": "3.6.9"
    },
    "colab": {
      "name": "desafio-6-2020_1.ipynb",
      "provenance": [],
      "collapsed_sections": [],
      "toc_visible": true,
      "include_colab_link": true
    },
    "accelerator": "GPU"
  },
  "cells": [
    {
      "cell_type": "markdown",
      "metadata": {
        "id": "view-in-github",
        "colab_type": "text"
      },
      "source": [
        "<a href=\"https://colab.research.google.com/github/Quiteria89/Deploy-Web/blob/master/desafio_6_2020_1.ipynb\" target=\"_parent\"><img src=\"https://colab.research.google.com/assets/colab-badge.svg\" alt=\"Open In Colab\"/></a>"
      ]
    },
    {
      "cell_type": "markdown",
      "metadata": {
        "collapsed": true,
        "id": "Ar0p4eGX_8L0",
        "colab_type": "text"
      },
      "source": [
        "# MARATONA BEHIND THE CODE 2020\n",
        "\n",
        "## DESAFIO 6 - LIT"
      ]
    },
    {
      "cell_type": "markdown",
      "metadata": {
        "id": "ZcBdhUUt_8L0",
        "colab_type": "text"
      },
      "source": [
        "<hr>"
      ]
    },
    {
      "cell_type": "markdown",
      "metadata": {
        "id": "dL1LLaTl_8L2",
        "colab_type": "text"
      },
      "source": [
        "## Installing Libs"
      ]
    },
    {
      "cell_type": "code",
      "metadata": {
        "id": "3LRqC6ZvCEFo",
        "colab_type": "code",
        "colab": {}
      },
      "source": [
        "import warnings\n",
        "warnings.filterwarnings(\"ignore\", category=DeprecationWarning)"
      ],
      "execution_count": 171,
      "outputs": []
    },
    {
      "cell_type": "code",
      "metadata": {
        "id": "HNANVvckW1Xz",
        "colab_type": "code",
        "colab": {
          "base_uri": "https://localhost:8080/",
          "height": 159
        },
        "outputId": "d64aa22d-77c3-42b1-b35b-af34ed61aa0e"
      },
      "source": [
        "# Primeiro, realizamos a instalação do scikit-learn versão 0.20.0 no Kernel deste notebook:\n",
        "#!pip3 install scikit-learn==0.20.0 --upgrade\n",
        "# caso você não tem essa biblioteca instalada use o comando abaixo.\n",
        "!pip3 install imblearn"
      ],
      "execution_count": 172,
      "outputs": [
        {
          "output_type": "stream",
          "text": [
            "Requirement already satisfied: imblearn in /usr/local/lib/python3.6/dist-packages (0.0)\n",
            "Requirement already satisfied: imbalanced-learn in /usr/local/lib/python3.6/dist-packages (from imblearn) (0.7.0)\n",
            "Requirement already satisfied: scipy>=0.19.1 in /usr/local/lib/python3.6/dist-packages (from imbalanced-learn->imblearn) (1.4.1)\n",
            "Requirement already satisfied: scikit-learn>=0.23 in /usr/local/lib/python3.6/dist-packages (from imbalanced-learn->imblearn) (0.23.2)\n",
            "Requirement already satisfied: numpy>=1.13.3 in /usr/local/lib/python3.6/dist-packages (from imbalanced-learn->imblearn) (1.18.5)\n",
            "Requirement already satisfied: joblib>=0.11 in /usr/local/lib/python3.6/dist-packages (from imbalanced-learn->imblearn) (0.16.0)\n",
            "Requirement already satisfied: threadpoolctl>=2.0.0 in /usr/local/lib/python3.6/dist-packages (from scikit-learn>=0.23->imbalanced-learn->imblearn) (2.1.0)\n"
          ],
          "name": "stdout"
        }
      ]
    },
    {
      "cell_type": "code",
      "metadata": {
        "id": "i-l-IXUx_8L-",
        "colab_type": "code",
        "colab": {
          "base_uri": "https://localhost:8080/",
          "height": 141
        },
        "outputId": "3c1ba544-7d80-44bc-ec57-7548b967f510"
      },
      "source": [
        "#!pip install imblearn --upgrade\n",
        "!pip3 install -U imbalanced-learn"
      ],
      "execution_count": 173,
      "outputs": [
        {
          "output_type": "stream",
          "text": [
            "Requirement already up-to-date: imbalanced-learn in /usr/local/lib/python3.6/dist-packages (0.7.0)\n",
            "Requirement already satisfied, skipping upgrade: scipy>=0.19.1 in /usr/local/lib/python3.6/dist-packages (from imbalanced-learn) (1.4.1)\n",
            "Requirement already satisfied, skipping upgrade: joblib>=0.11 in /usr/local/lib/python3.6/dist-packages (from imbalanced-learn) (0.16.0)\n",
            "Requirement already satisfied, skipping upgrade: scikit-learn>=0.23 in /usr/local/lib/python3.6/dist-packages (from imbalanced-learn) (0.23.2)\n",
            "Requirement already satisfied, skipping upgrade: numpy>=1.13.3 in /usr/local/lib/python3.6/dist-packages (from imbalanced-learn) (1.18.5)\n",
            "Requirement already satisfied, skipping upgrade: threadpoolctl>=2.0.0 in /usr/local/lib/python3.6/dist-packages (from scikit-learn>=0.23->imbalanced-learn) (2.1.0)\n"
          ],
          "name": "stdout"
        }
      ]
    },
    {
      "cell_type": "markdown",
      "metadata": {
        "id": "CFFDRR6K_8MD",
        "colab_type": "text"
      },
      "source": [
        "## Download dos conjuntos de dados em formato .csv"
      ]
    },
    {
      "cell_type": "code",
      "metadata": {
        "id": "WSTuQp-__8MD",
        "colab_type": "code",
        "colab": {}
      },
      "source": [
        "# Importando os módulos:\n",
        "import numpy as np\n",
        "import pandas as pd\n",
        "from sklearn.linear_model import LogisticRegression\n",
        "from sklearn.model_selection import train_test_split\n",
        "from sklearn.metrics import accuracy_score, confusion_matrix, classification_report\n",
        "from imblearn.over_sampling import SMOTE\n",
        "import seaborn as sns\n",
        "\n",
        "# Pacote para construção de modelo baseado na técnica Gradient Boosting\n",
        "#import xgboost as xgb\n",
        "from xgboost import XGBClassifier\n",
        "from xgboost import plot_tree\n",
        "# Pacote com métodos numéricos e representações matriciais\n",
        "import numpy as np\n"
      ],
      "execution_count": 174,
      "outputs": []
    },
    {
      "cell_type": "code",
      "metadata": {
        "id": "xiiMxqjR_8MG",
        "colab_type": "code",
        "colab": {
          "base_uri": "https://localhost:8080/",
          "height": 465
        },
        "outputId": "ef5cb61e-a5cf-4d40-cd82-f99bac41e78c"
      },
      "source": [
        "!wget --no-check-certificate --content-disposition https://raw.githubusercontent.com/vanderlei-test/dataset-3/master/training_dataset.csv\n",
        "#df_training_dataset = pd.read_csv(r'/content/training_dataset.csv',sep=',')\n",
        "df_training_dataset.tail()"
      ],
      "execution_count": 175,
      "outputs": [
        {
          "output_type": "stream",
          "text": [
            "--2020-09-18 18:22:01--  https://raw.githubusercontent.com/vanderlei-test/dataset-3/master/training_dataset.csv\n",
            "Resolving raw.githubusercontent.com (raw.githubusercontent.com)... 151.101.0.133, 151.101.64.133, 151.101.128.133, ...\n",
            "Connecting to raw.githubusercontent.com (raw.githubusercontent.com)|151.101.0.133|:443... connected.\n",
            "HTTP request sent, awaiting response... 200 OK\n",
            "Length: 1736600 (1.7M) [text/plain]\n",
            "Saving to: ‘training_dataset.csv’\n",
            "\n",
            "training_dataset.cs 100%[===================>]   1.66M  --.-KB/s    in 0.1s    \n",
            "\n",
            "2020-09-18 18:22:01 (14.5 MB/s) - ‘training_dataset.csv’ saved [1736600/1736600]\n",
            "\n"
          ],
          "name": "stdout"
        },
        {
          "output_type": "execute_result",
          "data": {
            "text/html": [
              "<div>\n",
              "<style scoped>\n",
              "    .dataframe tbody tr th:only-of-type {\n",
              "        vertical-align: middle;\n",
              "    }\n",
              "\n",
              "    .dataframe tbody tr th {\n",
              "        vertical-align: top;\n",
              "    }\n",
              "\n",
              "    .dataframe thead th {\n",
              "        text-align: right;\n",
              "    }\n",
              "</style>\n",
              "<table border=\"1\" class=\"dataframe\">\n",
              "  <thead>\n",
              "    <tr style=\"text-align: right;\">\n",
              "      <th></th>\n",
              "      <th>id</th>\n",
              "      <th>graduacao</th>\n",
              "      <th>universidade</th>\n",
              "      <th>profissao</th>\n",
              "      <th>organizacao</th>\n",
              "      <th>pretende_fazer_cursos_lit</th>\n",
              "      <th>interesse_mba_lit</th>\n",
              "      <th>importante_ter_certificado</th>\n",
              "      <th>horas_semanais_estudo</th>\n",
              "      <th>como_conheceu_lit</th>\n",
              "      <th>total_modulos</th>\n",
              "      <th>modulos_iniciados</th>\n",
              "      <th>modulos_finalizados</th>\n",
              "      <th>certificados</th>\n",
              "      <th>categoria</th>\n",
              "    </tr>\n",
              "  </thead>\n",
              "  <tbody>\n",
              "    <tr>\n",
              "      <th>15847</th>\n",
              "      <td>722542433.0</td>\n",
              "      <td>Bacharelado</td>\n",
              "      <td>NaN</td>\n",
              "      <td>Engenheiro</td>\n",
              "      <td>servicos</td>\n",
              "      <td>1.0</td>\n",
              "      <td>1.0</td>\n",
              "      <td>1.0</td>\n",
              "      <td>6.0</td>\n",
              "      <td>Outros</td>\n",
              "      <td>515.0</td>\n",
              "      <td>166.0</td>\n",
              "      <td>102.0</td>\n",
              "      <td>0.0</td>\n",
              "      <td>perfil4</td>\n",
              "    </tr>\n",
              "    <tr>\n",
              "      <th>15848</th>\n",
              "      <td>931753956.0</td>\n",
              "      <td>SEM FORMAÇÃO</td>\n",
              "      <td>UFRN</td>\n",
              "      <td>Supervisor</td>\n",
              "      <td>Siderurgica</td>\n",
              "      <td>0.0</td>\n",
              "      <td>0.0</td>\n",
              "      <td>1.0</td>\n",
              "      <td>8.0</td>\n",
              "      <td>Instagram</td>\n",
              "      <td>54.0</td>\n",
              "      <td>37.0</td>\n",
              "      <td>31.0</td>\n",
              "      <td>0.0</td>\n",
              "      <td>perfil2</td>\n",
              "    </tr>\n",
              "    <tr>\n",
              "      <th>15854</th>\n",
              "      <td>480674907.0</td>\n",
              "      <td>Tecnólogo</td>\n",
              "      <td>UNIP</td>\n",
              "      <td>Sócio/Dono/Proprietário</td>\n",
              "      <td>NaN</td>\n",
              "      <td>0.0</td>\n",
              "      <td>NaN</td>\n",
              "      <td>1.0</td>\n",
              "      <td>7.0</td>\n",
              "      <td>Outros</td>\n",
              "      <td>30.0</td>\n",
              "      <td>9.0</td>\n",
              "      <td>8.0</td>\n",
              "      <td>0.0</td>\n",
              "      <td>perfil5</td>\n",
              "    </tr>\n",
              "    <tr>\n",
              "      <th>15855</th>\n",
              "      <td>559626807.0</td>\n",
              "      <td>SEM FORMAÇÃO</td>\n",
              "      <td>UNIVERSIDADE NOVE DE JULHO</td>\n",
              "      <td>Advogado</td>\n",
              "      <td>Estado</td>\n",
              "      <td>0.0</td>\n",
              "      <td>0.0</td>\n",
              "      <td>1.0</td>\n",
              "      <td>10.0</td>\n",
              "      <td>NaN</td>\n",
              "      <td>226.0</td>\n",
              "      <td>102.0</td>\n",
              "      <td>93.0</td>\n",
              "      <td>1.0</td>\n",
              "      <td>perfil1</td>\n",
              "    </tr>\n",
              "    <tr>\n",
              "      <th>15856</th>\n",
              "      <td>743652801.0</td>\n",
              "      <td>NaN</td>\n",
              "      <td>FGV-RJ</td>\n",
              "      <td>NaN</td>\n",
              "      <td>Siderurgica</td>\n",
              "      <td>1.0</td>\n",
              "      <td>1.0</td>\n",
              "      <td>1.0</td>\n",
              "      <td>9.0</td>\n",
              "      <td>Outros</td>\n",
              "      <td>125.0</td>\n",
              "      <td>98.0</td>\n",
              "      <td>97.0</td>\n",
              "      <td>1.0</td>\n",
              "      <td>perfil1</td>\n",
              "    </tr>\n",
              "  </tbody>\n",
              "</table>\n",
              "</div>"
            ],
            "text/plain": [
              "                id     graduacao  ... certificados categoria\n",
              "15847  722542433.0   Bacharelado  ...          0.0   perfil4\n",
              "15848  931753956.0  SEM FORMAÇÃO  ...          0.0   perfil2\n",
              "15854  480674907.0     Tecnólogo  ...          0.0   perfil5\n",
              "15855  559626807.0  SEM FORMAÇÃO  ...          1.0   perfil1\n",
              "15856  743652801.0           NaN  ...          1.0   perfil1\n",
              "\n",
              "[5 rows x 15 columns]"
            ]
          },
          "metadata": {
            "tags": []
          },
          "execution_count": 175
        }
      ]
    },
    {
      "cell_type": "markdown",
      "metadata": {
        "id": "zFXaKrWV_8MK",
        "colab_type": "text"
      },
      "source": [
        "Sobre o arquivo \"training_dataset.csv\", temos algumas informações gerais sobre os usuários da plataforma:\n",
        "\n",
        "**id**\n",
        "\n",
        "**graduacao**\n",
        "\n",
        "**universidade**\n",
        "\n",
        "**profissao**\n",
        "\n",
        "**organizacao**\n",
        "\n",
        "**pretende_fazer_cursos_lit**\n",
        "\n",
        "**interesse_mba_lit**\n",
        "\n",
        "**importante_ter_certificado**\n",
        "\n",
        "**horas_semanais_estudo**\n",
        "\n",
        "**como_conheceu_lit**\n",
        "\n",
        "**total_modulos**\n",
        "\n",
        "**modulos_iniciados**\n",
        "\n",
        "**modulos_finalizados**\n",
        "\n",
        "**certificados**\n",
        "\n",
        "**categoria**"
      ]
    },
    {
      "cell_type": "code",
      "metadata": {
        "id": "oAkmzoUm_8ML",
        "colab_type": "code",
        "colab": {
          "base_uri": "https://localhost:8080/",
          "height": 399
        },
        "outputId": "f88f5ce4-db33-4dbd-b0d3-d325e948c7cd"
      },
      "source": [
        "df_training_dataset.info()"
      ],
      "execution_count": 176,
      "outputs": [
        {
          "output_type": "stream",
          "text": [
            "<class 'pandas.core.frame.DataFrame'>\n",
            "Int64Index: 12329 entries, 0 to 15856\n",
            "Data columns (total 15 columns):\n",
            " #   Column                      Non-Null Count  Dtype  \n",
            "---  ------                      --------------  -----  \n",
            " 0   id                          10847 non-null  float64\n",
            " 1   graduacao                   10841 non-null  object \n",
            " 2   universidade                10843 non-null  object \n",
            " 3   profissao                   10875 non-null  object \n",
            " 4   organizacao                 10847 non-null  object \n",
            " 5   pretende_fazer_cursos_lit   10845 non-null  float64\n",
            " 6   interesse_mba_lit           10881 non-null  float64\n",
            " 7   importante_ter_certificado  10830 non-null  float64\n",
            " 8   horas_semanais_estudo       10857 non-null  float64\n",
            " 9   como_conheceu_lit           10844 non-null  object \n",
            " 10  total_modulos               12329 non-null  float64\n",
            " 11  modulos_iniciados           10912 non-null  float64\n",
            " 12  modulos_finalizados         10853 non-null  float64\n",
            " 13  certificados                12329 non-null  float64\n",
            " 14  categoria                   12329 non-null  object \n",
            "dtypes: float64(9), object(6)\n",
            "memory usage: 1.5+ MB\n"
          ],
          "name": "stdout"
        }
      ]
    },
    {
      "cell_type": "code",
      "metadata": {
        "id": "mkLx7bvN_8MP",
        "colab_type": "code",
        "colab": {
          "base_uri": "https://localhost:8080/",
          "height": 295
        },
        "outputId": "7d1e7bd4-3d2e-434e-fc44-e478d1ce5b7f"
      },
      "source": [
        "df_training_dataset.nunique()"
      ],
      "execution_count": 177,
      "outputs": [
        {
          "output_type": "execute_result",
          "data": {
            "text/plain": [
              "id                            10847\n",
              "graduacao                         6\n",
              "universidade                     21\n",
              "profissao                        12\n",
              "organizacao                      11\n",
              "pretende_fazer_cursos_lit         2\n",
              "interesse_mba_lit                 2\n",
              "importante_ter_certificado        1\n",
              "horas_semanais_estudo             9\n",
              "como_conheceu_lit                 9\n",
              "total_modulos                   560\n",
              "modulos_iniciados               352\n",
              "modulos_finalizados             316\n",
              "certificados                     20\n",
              "categoria                         6\n",
              "dtype: int64"
            ]
          },
          "metadata": {
            "tags": []
          },
          "execution_count": 177
        }
      ]
    },
    {
      "cell_type": "markdown",
      "metadata": {
        "id": "wo0tGfFC_8MR",
        "colab_type": "text"
      },
      "source": [
        "<hr>\n",
        "\n",
        "## Detalhamento do desafio: classificação multiclasse\n",
        "\n",
        "Este é um desafio cujo objetivo de negócio é a segmentação dos usuários de uma plataforma de ensino. Para tal, podemos utilizar duas abordagens: aprendizado de máquina supervisionado (classificação) ou não-supervisionado (clustering). Neste desafio será aplicada a classificação, pois é disponível um dataset já com \"labels\", ou em outras palavras, já com exemplos de dados juntamente com a variável alvo.\n",
        "\n",
        "Na biblioteca scikit-learn temos diversos algoritmos para classificação. O participante é livre para utilizar o framework que desejar para completar esse desafio.\n",
        "\n",
        "Neste notebook será mostrado um exeplo de uso do algoritmo \"Decision Tree\" para classificar parte dos estudantes em seis diferentes perfís."
      ]
    },
    {
      "cell_type": "markdown",
      "metadata": {
        "id": "yz4EcSgG_8MS",
        "colab_type": "text"
      },
      "source": [
        "# Atenção!\n",
        "\n",
        "A coluna-alvo neste desafio é a coluna ``categoria``"
      ]
    },
    {
      "cell_type": "markdown",
      "metadata": {
        "id": "gkaftE8-_8MS",
        "colab_type": "text"
      },
      "source": [
        "<hr>"
      ]
    },
    {
      "cell_type": "code",
      "metadata": {
        "id": "T1b3O5f5_8MT",
        "colab_type": "code",
        "colab": {}
      },
      "source": [
        ""
      ],
      "execution_count": null,
      "outputs": []
    },
    {
      "cell_type": "code",
      "metadata": {
        "id": "XoYDl8LJ_8MV",
        "colab_type": "code",
        "colab": {}
      },
      "source": [
        ""
      ],
      "execution_count": null,
      "outputs": []
    },
    {
      "cell_type": "code",
      "metadata": {
        "id": "e9fb7k8f_8MY",
        "colab_type": "code",
        "colab": {}
      },
      "source": [
        ""
      ],
      "execution_count": null,
      "outputs": []
    },
    {
      "cell_type": "markdown",
      "metadata": {
        "id": "5fYlEt4n_8Ma",
        "colab_type": "text"
      },
      "source": [
        "## Pre-processando o dataset antes do treinamento"
      ]
    },
    {
      "cell_type": "markdown",
      "metadata": {
        "id": "hQq4kNcK_8Mb",
        "colab_type": "text"
      },
      "source": [
        "### Removendo todas as linhas que possuem algum valor nulos em determinadas colunas"
      ]
    },
    {
      "cell_type": "markdown",
      "metadata": {
        "id": "flCbV7r9_8Mc",
        "colab_type": "text"
      },
      "source": [
        "Usando o método Pandas **DataFrame.dropna()** você pode remover todas as linhas nulas do dataset.\n",
        "\n",
        "Docs: https://pandas.pydata.org/pandas-docs/stable/reference/api/pandas.DataFrame.dropna.html"
      ]
    },
    {
      "cell_type": "code",
      "metadata": {
        "id": "jv4YoH5i_8Mc",
        "colab_type": "code",
        "colab": {
          "base_uri": "https://localhost:8080/",
          "height": 347
        },
        "outputId": "e155a2d7-a0aa-4d9b-b743-dbb9ac52d7a3"
      },
      "source": [
        "# Exibindo os dados ausentes do conjunto de dados antes da primeira transformação (df)\n",
        "print(\"Valores nulos no df_training_dataset antes da transformação DropNA: \\n\\n{}\\n\".format(df_training_dataset.isnull().sum(axis = 0)))"
      ],
      "execution_count": 178,
      "outputs": [
        {
          "output_type": "stream",
          "text": [
            "Valores nulos no df_training_dataset antes da transformação DropNA: \n",
            "\n",
            "id                            1482\n",
            "graduacao                     1488\n",
            "universidade                  1486\n",
            "profissao                     1454\n",
            "organizacao                   1482\n",
            "pretende_fazer_cursos_lit     1484\n",
            "interesse_mba_lit             1448\n",
            "importante_ter_certificado    1499\n",
            "horas_semanais_estudo         1472\n",
            "como_conheceu_lit             1485\n",
            "total_modulos                    0\n",
            "modulos_iniciados             1417\n",
            "modulos_finalizados           1476\n",
            "certificados                     0\n",
            "categoria                        0\n",
            "dtype: int64\n",
            "\n"
          ],
          "name": "stdout"
        }
      ]
    },
    {
      "cell_type": "code",
      "metadata": {
        "id": "Biqvi2Cn_8Mf",
        "colab_type": "code",
        "colab": {}
      },
      "source": [
        "# Aplicando a função para deletar todas as linhas com valor NaN na coluna ``certificados'' e ``total_modulos'':\n",
        "df_training_dataset = df_training_dataset.dropna(axis='index', how='any', subset=['certificados', 'total_modulos'])"
      ],
      "execution_count": 179,
      "outputs": []
    },
    {
      "cell_type": "code",
      "metadata": {
        "scrolled": true,
        "id": "uZoNxol8_8Mi",
        "colab_type": "code",
        "colab": {
          "base_uri": "https://localhost:8080/",
          "height": 347
        },
        "outputId": "075f6ee7-e035-4875-c52c-0d9979e35837"
      },
      "source": [
        "# Exibindo os dados ausentes do conjunto de dados após a primeira transformação (df)\n",
        "print(\"Valores nulos no df_training_dataset após a transformação DropNA: \\n\\n{}\\n\".format(df_training_dataset.isnull().sum(axis = 0)))"
      ],
      "execution_count": 180,
      "outputs": [
        {
          "output_type": "stream",
          "text": [
            "Valores nulos no df_training_dataset após a transformação DropNA: \n",
            "\n",
            "id                            1482\n",
            "graduacao                     1488\n",
            "universidade                  1486\n",
            "profissao                     1454\n",
            "organizacao                   1482\n",
            "pretende_fazer_cursos_lit     1484\n",
            "interesse_mba_lit             1448\n",
            "importante_ter_certificado    1499\n",
            "horas_semanais_estudo         1472\n",
            "como_conheceu_lit             1485\n",
            "total_modulos                    0\n",
            "modulos_iniciados             1417\n",
            "modulos_finalizados           1476\n",
            "certificados                     0\n",
            "categoria                        0\n",
            "dtype: int64\n",
            "\n"
          ],
          "name": "stdout"
        }
      ]
    },
    {
      "cell_type": "markdown",
      "metadata": {
        "id": "EYUhcRBh_8Ml",
        "colab_type": "text"
      },
      "source": [
        "### Processando valores NaN com o SimpleImputer do sklearn\n",
        "\n",
        "Para os valores NaN, usaremos a substituição pela constante 0 como **exemplo**.\n",
        "\n",
        "Você pode escolher a estratégia que achar melhor para tratar os valores nulos :)\n",
        "\n",
        "Docs: https://scikit-learn.org/stable/modules/generated/sklearn.impute.SimpleImputer.html?highlight=simpleimputer#sklearn.impute.SimpleImputer"
      ]
    },
    {
      "cell_type": "code",
      "metadata": {
        "id": "YEu8I_8O_8Mm",
        "colab_type": "code",
        "colab": {}
      },
      "source": [
        "from sklearn.impute import SimpleImputer\n",
        "import numpy as np\n",
        "\n",
        "\n",
        "impute_zeros = SimpleImputer(\n",
        "    missing_values=np.nan,\n",
        "    strategy='constant',\n",
        "    fill_value=0,\n",
        "    verbose=0,\n",
        "    copy=True\n",
        ")"
      ],
      "execution_count": 181,
      "outputs": []
    },
    {
      "cell_type": "code",
      "metadata": {
        "id": "8IjycxhM_8Mp",
        "colab_type": "code",
        "colab": {
          "base_uri": "https://localhost:8080/",
          "height": 676
        },
        "outputId": "66bcea14-2449-4380-ada6-994e5032165e"
      },
      "source": [
        "# Exibindo os dados ausentes do conjunto de dados antes da primeira transformação (df)\n",
        "print(\"Valores nulos no df_training_dataset antes da transformação SimpleImputer: \\n\\n{}\\n\".format(df_training_dataset.isnull().sum(axis = 0)))\n",
        "\n",
        "# Aplicando a transformação ``SimpleImputer`` no conjunto de dados base\n",
        "impute_zeros.fit(X=df_training_dataset)\n",
        "\n",
        "# Reconstruindo um Pandas DataFrame com os resultados\n",
        "df_training_dataset_imputed = pd.DataFrame.from_records(\n",
        "    data=impute_zeros.transform(\n",
        "        X=df_training_dataset\n",
        "    ),\n",
        "    columns=df_training_dataset.columns\n",
        ")\n",
        "\n",
        "# Exibindo os dados ausentes do conjunto de dados após a primeira transformação (df)\n",
        "print(\"Valores nulos no df_training_dataset após a transformação SimpleImputer: \\n\\n{}\\n\".format(df_training_dataset_imputed.isnull().sum(axis = 0)))"
      ],
      "execution_count": 182,
      "outputs": [
        {
          "output_type": "stream",
          "text": [
            "Valores nulos no df_training_dataset antes da transformação SimpleImputer: \n",
            "\n",
            "id                            1482\n",
            "graduacao                     1488\n",
            "universidade                  1486\n",
            "profissao                     1454\n",
            "organizacao                   1482\n",
            "pretende_fazer_cursos_lit     1484\n",
            "interesse_mba_lit             1448\n",
            "importante_ter_certificado    1499\n",
            "horas_semanais_estudo         1472\n",
            "como_conheceu_lit             1485\n",
            "total_modulos                    0\n",
            "modulos_iniciados             1417\n",
            "modulos_finalizados           1476\n",
            "certificados                     0\n",
            "categoria                        0\n",
            "dtype: int64\n",
            "\n",
            "Valores nulos no df_training_dataset após a transformação SimpleImputer: \n",
            "\n",
            "id                            0\n",
            "graduacao                     0\n",
            "universidade                  0\n",
            "profissao                     0\n",
            "organizacao                   0\n",
            "pretende_fazer_cursos_lit     0\n",
            "interesse_mba_lit             0\n",
            "importante_ter_certificado    0\n",
            "horas_semanais_estudo         0\n",
            "como_conheceu_lit             0\n",
            "total_modulos                 0\n",
            "modulos_iniciados             0\n",
            "modulos_finalizados           0\n",
            "certificados                  0\n",
            "categoria                     0\n",
            "dtype: int64\n",
            "\n"
          ],
          "name": "stdout"
        }
      ]
    },
    {
      "cell_type": "markdown",
      "metadata": {
        "id": "4lSsYPVO_8Mr",
        "colab_type": "text"
      },
      "source": [
        "### Eliminando colunas indesejadas\n",
        "\n",
        "Vamos **demonstrar** abaixo como usar o método **DataFrame.drop()**.\n",
        "\n",
        "Docs: https://pandas.pydata.org/pandas-docs/stable/reference/api/pandas.DataFrame.drop.html"
      ]
    },
    {
      "cell_type": "code",
      "metadata": {
        "id": "jwiLGMr7_8Ms",
        "colab_type": "code",
        "colab": {
          "base_uri": "https://localhost:8080/",
          "height": 274
        },
        "outputId": "fb8d7748-ee12-4cab-d97e-4a508c40d173"
      },
      "source": [
        "df_training_dataset_imputed.tail()"
      ],
      "execution_count": 183,
      "outputs": [
        {
          "output_type": "execute_result",
          "data": {
            "text/html": [
              "<div>\n",
              "<style scoped>\n",
              "    .dataframe tbody tr th:only-of-type {\n",
              "        vertical-align: middle;\n",
              "    }\n",
              "\n",
              "    .dataframe tbody tr th {\n",
              "        vertical-align: top;\n",
              "    }\n",
              "\n",
              "    .dataframe thead th {\n",
              "        text-align: right;\n",
              "    }\n",
              "</style>\n",
              "<table border=\"1\" class=\"dataframe\">\n",
              "  <thead>\n",
              "    <tr style=\"text-align: right;\">\n",
              "      <th></th>\n",
              "      <th>id</th>\n",
              "      <th>graduacao</th>\n",
              "      <th>universidade</th>\n",
              "      <th>profissao</th>\n",
              "      <th>organizacao</th>\n",
              "      <th>pretende_fazer_cursos_lit</th>\n",
              "      <th>interesse_mba_lit</th>\n",
              "      <th>importante_ter_certificado</th>\n",
              "      <th>horas_semanais_estudo</th>\n",
              "      <th>como_conheceu_lit</th>\n",
              "      <th>total_modulos</th>\n",
              "      <th>modulos_iniciados</th>\n",
              "      <th>modulos_finalizados</th>\n",
              "      <th>certificados</th>\n",
              "      <th>categoria</th>\n",
              "    </tr>\n",
              "  </thead>\n",
              "  <tbody>\n",
              "    <tr>\n",
              "      <th>12324</th>\n",
              "      <td>722542433.0</td>\n",
              "      <td>Bacharelado</td>\n",
              "      <td>0</td>\n",
              "      <td>Engenheiro</td>\n",
              "      <td>servicos</td>\n",
              "      <td>1.0</td>\n",
              "      <td>1.0</td>\n",
              "      <td>1.0</td>\n",
              "      <td>6.0</td>\n",
              "      <td>Outros</td>\n",
              "      <td>515.0</td>\n",
              "      <td>166.0</td>\n",
              "      <td>102.0</td>\n",
              "      <td>0.0</td>\n",
              "      <td>perfil4</td>\n",
              "    </tr>\n",
              "    <tr>\n",
              "      <th>12325</th>\n",
              "      <td>931753956.0</td>\n",
              "      <td>SEM FORMAÇÃO</td>\n",
              "      <td>UFRN</td>\n",
              "      <td>Supervisor</td>\n",
              "      <td>Siderurgica</td>\n",
              "      <td>0.0</td>\n",
              "      <td>0.0</td>\n",
              "      <td>1.0</td>\n",
              "      <td>8.0</td>\n",
              "      <td>Instagram</td>\n",
              "      <td>54.0</td>\n",
              "      <td>37.0</td>\n",
              "      <td>31.0</td>\n",
              "      <td>0.0</td>\n",
              "      <td>perfil2</td>\n",
              "    </tr>\n",
              "    <tr>\n",
              "      <th>12326</th>\n",
              "      <td>480674907.0</td>\n",
              "      <td>Tecnólogo</td>\n",
              "      <td>UNIP</td>\n",
              "      <td>Sócio/Dono/Proprietário</td>\n",
              "      <td>0</td>\n",
              "      <td>0.0</td>\n",
              "      <td>0.0</td>\n",
              "      <td>1.0</td>\n",
              "      <td>7.0</td>\n",
              "      <td>Outros</td>\n",
              "      <td>30.0</td>\n",
              "      <td>9.0</td>\n",
              "      <td>8.0</td>\n",
              "      <td>0.0</td>\n",
              "      <td>perfil5</td>\n",
              "    </tr>\n",
              "    <tr>\n",
              "      <th>12327</th>\n",
              "      <td>559626807.0</td>\n",
              "      <td>SEM FORMAÇÃO</td>\n",
              "      <td>UNIVERSIDADE NOVE DE JULHO</td>\n",
              "      <td>Advogado</td>\n",
              "      <td>Estado</td>\n",
              "      <td>0.0</td>\n",
              "      <td>0.0</td>\n",
              "      <td>1.0</td>\n",
              "      <td>10.0</td>\n",
              "      <td>0</td>\n",
              "      <td>226.0</td>\n",
              "      <td>102.0</td>\n",
              "      <td>93.0</td>\n",
              "      <td>1.0</td>\n",
              "      <td>perfil1</td>\n",
              "    </tr>\n",
              "    <tr>\n",
              "      <th>12328</th>\n",
              "      <td>743652801.0</td>\n",
              "      <td>0</td>\n",
              "      <td>FGV-RJ</td>\n",
              "      <td>0</td>\n",
              "      <td>Siderurgica</td>\n",
              "      <td>1.0</td>\n",
              "      <td>1.0</td>\n",
              "      <td>1.0</td>\n",
              "      <td>9.0</td>\n",
              "      <td>Outros</td>\n",
              "      <td>125.0</td>\n",
              "      <td>98.0</td>\n",
              "      <td>97.0</td>\n",
              "      <td>1.0</td>\n",
              "      <td>perfil1</td>\n",
              "    </tr>\n",
              "  </tbody>\n",
              "</table>\n",
              "</div>"
            ],
            "text/plain": [
              "                id     graduacao  ... certificados categoria\n",
              "12324  722542433.0   Bacharelado  ...          0.0   perfil4\n",
              "12325  931753956.0  SEM FORMAÇÃO  ...          0.0   perfil2\n",
              "12326  480674907.0     Tecnólogo  ...          0.0   perfil5\n",
              "12327  559626807.0  SEM FORMAÇÃO  ...          1.0   perfil1\n",
              "12328  743652801.0             0  ...          1.0   perfil1\n",
              "\n",
              "[5 rows x 15 columns]"
            ]
          },
          "metadata": {
            "tags": []
          },
          "execution_count": 183
        }
      ]
    },
    {
      "cell_type": "code",
      "metadata": {
        "id": "jdtnnXeN_8Mu",
        "colab_type": "code",
        "colab": {}
      },
      "source": [
        "df_training_dataset_rmcolumns = df_training_dataset_imputed.drop(columns=['id', 'graduacao', 'universidade', 'organizacao', 'como_conheceu_lit'], inplace=False)"
      ],
      "execution_count": 184,
      "outputs": []
    },
    {
      "cell_type": "code",
      "metadata": {
        "id": "k09WM6_s_8Mw",
        "colab_type": "code",
        "colab": {
          "base_uri": "https://localhost:8080/",
          "height": 222
        },
        "outputId": "70052363-2163-48b3-d01f-b883fe9c7c1d"
      },
      "source": [
        "df_training_dataset_rmcolumns.tail()"
      ],
      "execution_count": 185,
      "outputs": [
        {
          "output_type": "execute_result",
          "data": {
            "text/html": [
              "<div>\n",
              "<style scoped>\n",
              "    .dataframe tbody tr th:only-of-type {\n",
              "        vertical-align: middle;\n",
              "    }\n",
              "\n",
              "    .dataframe tbody tr th {\n",
              "        vertical-align: top;\n",
              "    }\n",
              "\n",
              "    .dataframe thead th {\n",
              "        text-align: right;\n",
              "    }\n",
              "</style>\n",
              "<table border=\"1\" class=\"dataframe\">\n",
              "  <thead>\n",
              "    <tr style=\"text-align: right;\">\n",
              "      <th></th>\n",
              "      <th>profissao</th>\n",
              "      <th>pretende_fazer_cursos_lit</th>\n",
              "      <th>interesse_mba_lit</th>\n",
              "      <th>importante_ter_certificado</th>\n",
              "      <th>horas_semanais_estudo</th>\n",
              "      <th>total_modulos</th>\n",
              "      <th>modulos_iniciados</th>\n",
              "      <th>modulos_finalizados</th>\n",
              "      <th>certificados</th>\n",
              "      <th>categoria</th>\n",
              "    </tr>\n",
              "  </thead>\n",
              "  <tbody>\n",
              "    <tr>\n",
              "      <th>12324</th>\n",
              "      <td>Engenheiro</td>\n",
              "      <td>1.0</td>\n",
              "      <td>1.0</td>\n",
              "      <td>1.0</td>\n",
              "      <td>6.0</td>\n",
              "      <td>515.0</td>\n",
              "      <td>166.0</td>\n",
              "      <td>102.0</td>\n",
              "      <td>0.0</td>\n",
              "      <td>perfil4</td>\n",
              "    </tr>\n",
              "    <tr>\n",
              "      <th>12325</th>\n",
              "      <td>Supervisor</td>\n",
              "      <td>0.0</td>\n",
              "      <td>0.0</td>\n",
              "      <td>1.0</td>\n",
              "      <td>8.0</td>\n",
              "      <td>54.0</td>\n",
              "      <td>37.0</td>\n",
              "      <td>31.0</td>\n",
              "      <td>0.0</td>\n",
              "      <td>perfil2</td>\n",
              "    </tr>\n",
              "    <tr>\n",
              "      <th>12326</th>\n",
              "      <td>Sócio/Dono/Proprietário</td>\n",
              "      <td>0.0</td>\n",
              "      <td>0.0</td>\n",
              "      <td>1.0</td>\n",
              "      <td>7.0</td>\n",
              "      <td>30.0</td>\n",
              "      <td>9.0</td>\n",
              "      <td>8.0</td>\n",
              "      <td>0.0</td>\n",
              "      <td>perfil5</td>\n",
              "    </tr>\n",
              "    <tr>\n",
              "      <th>12327</th>\n",
              "      <td>Advogado</td>\n",
              "      <td>0.0</td>\n",
              "      <td>0.0</td>\n",
              "      <td>1.0</td>\n",
              "      <td>10.0</td>\n",
              "      <td>226.0</td>\n",
              "      <td>102.0</td>\n",
              "      <td>93.0</td>\n",
              "      <td>1.0</td>\n",
              "      <td>perfil1</td>\n",
              "    </tr>\n",
              "    <tr>\n",
              "      <th>12328</th>\n",
              "      <td>0</td>\n",
              "      <td>1.0</td>\n",
              "      <td>1.0</td>\n",
              "      <td>1.0</td>\n",
              "      <td>9.0</td>\n",
              "      <td>125.0</td>\n",
              "      <td>98.0</td>\n",
              "      <td>97.0</td>\n",
              "      <td>1.0</td>\n",
              "      <td>perfil1</td>\n",
              "    </tr>\n",
              "  </tbody>\n",
              "</table>\n",
              "</div>"
            ],
            "text/plain": [
              "                     profissao  ...  categoria\n",
              "12324               Engenheiro  ...    perfil4\n",
              "12325               Supervisor  ...    perfil2\n",
              "12326  Sócio/Dono/Proprietário  ...    perfil5\n",
              "12327                 Advogado  ...    perfil1\n",
              "12328                        0  ...    perfil1\n",
              "\n",
              "[5 rows x 10 columns]"
            ]
          },
          "metadata": {
            "tags": []
          },
          "execution_count": 185
        }
      ]
    },
    {
      "cell_type": "markdown",
      "metadata": {
        "id": "YDs8GC09_8Mz",
        "colab_type": "text"
      },
      "source": [
        "# Atenção!\n",
        "\n",
        "As colunas removidas acima são apenas para fim de exemplo, você pode usar as colunas que quiser e inclusive criar novas colunas com dados que achar importantes!\n"
      ]
    },
    {
      "cell_type": "markdown",
      "metadata": {
        "id": "PrjmkEEB_8Mz",
        "colab_type": "text"
      },
      "source": [
        "### Tratamento de de variáveis categóricas\n",
        "\n",
        "Como mencionado antes, os computadores não são bons com variáveis \"categóricas\" (ou strings).\n",
        "\n",
        "Dado uma coluna com variável categórica, o que podemos realizar é a codificação dessa coluna em múltiplas colunas contendo variáveis binárias. Esse processo é chamado de \"one-hot-encoding\" ou \"dummy encoding\". Se você não é familiarizado com esses termos, você pode pesquisar mais sobre isso na internet :)"
      ]
    },
    {
      "cell_type": "code",
      "metadata": {
        "id": "uOBBqNZA_8M0",
        "colab_type": "code",
        "colab": {
          "base_uri": "https://localhost:8080/",
          "height": 239
        },
        "outputId": "deac35cf-dc0d-4456-f482-21085f263983"
      },
      "source": [
        "# Tratando variáveis categóricas com o método Pandas ``get_dummies()''\n",
        "df_training = pd.get_dummies(df_training_dataset_rmcolumns, columns=['profissao'])\n",
        "df_training.tail()"
      ],
      "execution_count": 186,
      "outputs": [
        {
          "output_type": "execute_result",
          "data": {
            "text/html": [
              "<div>\n",
              "<style scoped>\n",
              "    .dataframe tbody tr th:only-of-type {\n",
              "        vertical-align: middle;\n",
              "    }\n",
              "\n",
              "    .dataframe tbody tr th {\n",
              "        vertical-align: top;\n",
              "    }\n",
              "\n",
              "    .dataframe thead th {\n",
              "        text-align: right;\n",
              "    }\n",
              "</style>\n",
              "<table border=\"1\" class=\"dataframe\">\n",
              "  <thead>\n",
              "    <tr style=\"text-align: right;\">\n",
              "      <th></th>\n",
              "      <th>pretende_fazer_cursos_lit</th>\n",
              "      <th>interesse_mba_lit</th>\n",
              "      <th>importante_ter_certificado</th>\n",
              "      <th>horas_semanais_estudo</th>\n",
              "      <th>total_modulos</th>\n",
              "      <th>modulos_iniciados</th>\n",
              "      <th>modulos_finalizados</th>\n",
              "      <th>certificados</th>\n",
              "      <th>categoria</th>\n",
              "      <th>profissao_0</th>\n",
              "      <th>profissao_Advogado</th>\n",
              "      <th>profissao_Analista</th>\n",
              "      <th>profissao_Analista Senior</th>\n",
              "      <th>profissao_Assessor</th>\n",
              "      <th>profissao_Coordenador</th>\n",
              "      <th>profissao_Diretor</th>\n",
              "      <th>profissao_Engenheiro</th>\n",
              "      <th>profissao_Gerente</th>\n",
              "      <th>profissao_Outros</th>\n",
              "      <th>profissao_SEM EXPERIÊNCIA</th>\n",
              "      <th>profissao_Supervisor</th>\n",
              "      <th>profissao_Sócio/Dono/Proprietário</th>\n",
              "    </tr>\n",
              "  </thead>\n",
              "  <tbody>\n",
              "    <tr>\n",
              "      <th>12324</th>\n",
              "      <td>1.0</td>\n",
              "      <td>1.0</td>\n",
              "      <td>1.0</td>\n",
              "      <td>6.0</td>\n",
              "      <td>515.0</td>\n",
              "      <td>166.0</td>\n",
              "      <td>102.0</td>\n",
              "      <td>0.0</td>\n",
              "      <td>perfil4</td>\n",
              "      <td>0</td>\n",
              "      <td>0</td>\n",
              "      <td>0</td>\n",
              "      <td>0</td>\n",
              "      <td>0</td>\n",
              "      <td>0</td>\n",
              "      <td>0</td>\n",
              "      <td>1</td>\n",
              "      <td>0</td>\n",
              "      <td>0</td>\n",
              "      <td>0</td>\n",
              "      <td>0</td>\n",
              "      <td>0</td>\n",
              "    </tr>\n",
              "    <tr>\n",
              "      <th>12325</th>\n",
              "      <td>0.0</td>\n",
              "      <td>0.0</td>\n",
              "      <td>1.0</td>\n",
              "      <td>8.0</td>\n",
              "      <td>54.0</td>\n",
              "      <td>37.0</td>\n",
              "      <td>31.0</td>\n",
              "      <td>0.0</td>\n",
              "      <td>perfil2</td>\n",
              "      <td>0</td>\n",
              "      <td>0</td>\n",
              "      <td>0</td>\n",
              "      <td>0</td>\n",
              "      <td>0</td>\n",
              "      <td>0</td>\n",
              "      <td>0</td>\n",
              "      <td>0</td>\n",
              "      <td>0</td>\n",
              "      <td>0</td>\n",
              "      <td>0</td>\n",
              "      <td>1</td>\n",
              "      <td>0</td>\n",
              "    </tr>\n",
              "    <tr>\n",
              "      <th>12326</th>\n",
              "      <td>0.0</td>\n",
              "      <td>0.0</td>\n",
              "      <td>1.0</td>\n",
              "      <td>7.0</td>\n",
              "      <td>30.0</td>\n",
              "      <td>9.0</td>\n",
              "      <td>8.0</td>\n",
              "      <td>0.0</td>\n",
              "      <td>perfil5</td>\n",
              "      <td>0</td>\n",
              "      <td>0</td>\n",
              "      <td>0</td>\n",
              "      <td>0</td>\n",
              "      <td>0</td>\n",
              "      <td>0</td>\n",
              "      <td>0</td>\n",
              "      <td>0</td>\n",
              "      <td>0</td>\n",
              "      <td>0</td>\n",
              "      <td>0</td>\n",
              "      <td>0</td>\n",
              "      <td>1</td>\n",
              "    </tr>\n",
              "    <tr>\n",
              "      <th>12327</th>\n",
              "      <td>0.0</td>\n",
              "      <td>0.0</td>\n",
              "      <td>1.0</td>\n",
              "      <td>10.0</td>\n",
              "      <td>226.0</td>\n",
              "      <td>102.0</td>\n",
              "      <td>93.0</td>\n",
              "      <td>1.0</td>\n",
              "      <td>perfil1</td>\n",
              "      <td>0</td>\n",
              "      <td>1</td>\n",
              "      <td>0</td>\n",
              "      <td>0</td>\n",
              "      <td>0</td>\n",
              "      <td>0</td>\n",
              "      <td>0</td>\n",
              "      <td>0</td>\n",
              "      <td>0</td>\n",
              "      <td>0</td>\n",
              "      <td>0</td>\n",
              "      <td>0</td>\n",
              "      <td>0</td>\n",
              "    </tr>\n",
              "    <tr>\n",
              "      <th>12328</th>\n",
              "      <td>1.0</td>\n",
              "      <td>1.0</td>\n",
              "      <td>1.0</td>\n",
              "      <td>9.0</td>\n",
              "      <td>125.0</td>\n",
              "      <td>98.0</td>\n",
              "      <td>97.0</td>\n",
              "      <td>1.0</td>\n",
              "      <td>perfil1</td>\n",
              "      <td>1</td>\n",
              "      <td>0</td>\n",
              "      <td>0</td>\n",
              "      <td>0</td>\n",
              "      <td>0</td>\n",
              "      <td>0</td>\n",
              "      <td>0</td>\n",
              "      <td>0</td>\n",
              "      <td>0</td>\n",
              "      <td>0</td>\n",
              "      <td>0</td>\n",
              "      <td>0</td>\n",
              "      <td>0</td>\n",
              "    </tr>\n",
              "  </tbody>\n",
              "</table>\n",
              "</div>"
            ],
            "text/plain": [
              "       pretende_fazer_cursos_lit  ...  profissao_Sócio/Dono/Proprietário\n",
              "12324                        1.0  ...                                  0\n",
              "12325                        0.0  ...                                  0\n",
              "12326                        0.0  ...                                  1\n",
              "12327                        0.0  ...                                  0\n",
              "12328                        1.0  ...                                  0\n",
              "\n",
              "[5 rows x 22 columns]"
            ]
          },
          "metadata": {
            "tags": []
          },
          "execution_count": 186
        }
      ]
    },
    {
      "cell_type": "code",
      "metadata": {
        "id": "D4Sbjtc6ptv5",
        "colab_type": "code",
        "colab": {
          "base_uri": "https://localhost:8080/",
          "height": 139
        },
        "outputId": "2835625a-9c2b-4d0d-a06e-13af9f0e3e4c"
      },
      "source": [
        "#Definindo as features do modelo\n",
        "df_training.categoria.value_counts()"
      ],
      "execution_count": 187,
      "outputs": [
        {
          "output_type": "execute_result",
          "data": {
            "text/plain": [
              "perfil6    3507\n",
              "perfil2    3321\n",
              "perfil1    1919\n",
              "perfil5    1466\n",
              "perfil4    1284\n",
              "perfil3     832\n",
              "Name: categoria, dtype: int64"
            ]
          },
          "metadata": {
            "tags": []
          },
          "execution_count": 187
        }
      ]
    },
    {
      "cell_type": "code",
      "metadata": {
        "id": "a3gbZ-cWqGE5",
        "colab_type": "code",
        "colab": {
          "base_uri": "https://localhost:8080/",
          "height": 279
        },
        "outputId": "f8273238-5ae2-4efe-cc40-b9ccd122fede"
      },
      "source": [
        "#Grafico\n",
        "import seaborn as sns\n",
        "ax = sns.countplot(x=\"categoria\", data=df_training)"
      ],
      "execution_count": 188,
      "outputs": [
        {
          "output_type": "display_data",
          "data": {
            "image/png": "[encoded data removed]",
            "text/plain": [
              "<Figure size 432x288 with 1 Axes>"
            ]
          },
          "metadata": {
            "tags": [],
            "needs_background": "light"
          }
        }
      ]
    },
    {
      "cell_type": "markdown",
      "metadata": {
        "id": "O84cmORe_8M2",
        "colab_type": "text"
      },
      "source": [
        "# Atenção!\n",
        "\n",
        "A coluna **categoria** deve ser mantida como uma string. Você não precisa processar/codificar a variável-alvo."
      ]
    },
    {
      "cell_type": "markdown",
      "metadata": {
        "id": "ATEjJI0I_8M2",
        "colab_type": "text"
      },
      "source": [
        "<hr>"
      ]
    },
    {
      "cell_type": "markdown",
      "metadata": {
        "id": "y1gPsLeJ_8M4",
        "colab_type": "text"
      },
      "source": [
        "## Treinando um classificador com base em uma árvore de decisão"
      ]
    },
    {
      "cell_type": "markdown",
      "metadata": {
        "id": "bNdfOa4X_8M4",
        "colab_type": "text"
      },
      "source": [
        "### Selecionando FEATURES e definindo a variável TARGET"
      ]
    },
    {
      "cell_type": "code",
      "metadata": {
        "id": "sjlaYo7e_8M5",
        "colab_type": "code",
        "colab": {
          "base_uri": "https://localhost:8080/",
          "height": 173
        },
        "outputId": "4798faef-ee49-4e11-bd95-efb333b3c177"
      },
      "source": [
        "df_training.columns"
      ],
      "execution_count": 189,
      "outputs": [
        {
          "output_type": "execute_result",
          "data": {
            "text/plain": [
              "Index(['pretende_fazer_cursos_lit', 'interesse_mba_lit',\n",
              "       'importante_ter_certificado', 'horas_semanais_estudo', 'total_modulos',\n",
              "       'modulos_iniciados', 'modulos_finalizados', 'certificados', 'categoria',\n",
              "       'profissao_0', 'profissao_Advogado', 'profissao_Analista',\n",
              "       'profissao_Analista Senior', 'profissao_Assessor',\n",
              "       'profissao_Coordenador', 'profissao_Diretor', 'profissao_Engenheiro',\n",
              "       'profissao_Gerente', 'profissao_Outros', 'profissao_SEM EXPERIÊNCIA',\n",
              "       'profissao_Supervisor', 'profissao_Sócio/Dono/Proprietário'],\n",
              "      dtype='object')"
            ]
          },
          "metadata": {
            "tags": []
          },
          "execution_count": 189
        }
      ]
    },
    {
      "cell_type": "code",
      "metadata": {
        "id": "BCBb-H_I_8M8",
        "colab_type": "code",
        "colab": {}
      },
      "source": [
        "features = df_training[\n",
        "    [\n",
        "        'pretende_fazer_cursos_lit', 'interesse_mba_lit',\n",
        "        'importante_ter_certificado', 'horas_semanais_estudo', 'total_modulos',\n",
        "        'modulos_iniciados', 'modulos_finalizados', 'certificados',\n",
        "        'profissao_0', 'profissao_Advogado', 'profissao_Analista',\n",
        "        'profissao_Analista Senior', 'profissao_Assessor',\n",
        "        'profissao_Coordenador', 'profissao_Diretor', 'profissao_Engenheiro',\n",
        "        'profissao_Gerente', 'profissao_Outros', 'profissao_SEM EXPERIÊNCIA',\n",
        "        'profissao_Supervisor', 'profissao_Sócio/Dono/Proprietário'\n",
        "    ]\n",
        "]\n",
        "target = df_training['categoria']  ## NÃO TROQUE O NOME DA VARIÁVEL TARGET.\n",
        "\n",
        "# Preparação dos argumentos para os métodos da biblioteca ``scikit-learn``\n",
        "X =features \n",
        "y =target"
      ],
      "execution_count": 190,
      "outputs": []
    },
    {
      "cell_type": "markdown",
      "metadata": {
        "id": "O-PGv-He_8M_",
        "colab_type": "text"
      },
      "source": [
        "### Dividindo nosso conjunto de dados em conjuntos de treinamento e teste"
      ]
    },
    {
      "cell_type": "code",
      "metadata": {
        "id": "BtzWR_k1_8M_",
        "colab_type": "code",
        "colab": {}
      },
      "source": [
        "from sklearn.model_selection import train_test_split\n",
        "\n",
        "X_train, X_test, y_train, y_test = train_test_split(features, target, test_size=0.5, random_state=133)"
      ],
      "execution_count": 191,
      "outputs": []
    },
    {
      "cell_type": "markdown",
      "metadata": {
        "id": "74sO9aSn_8NC",
        "colab_type": "text"
      },
      "source": [
        "### Treinando uma árvore de decisão"
      ]
    },
    {
      "cell_type": "code",
      "metadata": {
        "id": "92mDogNA_8NC",
        "colab_type": "code",
        "colab": {}
      },
      "source": [
        "# Método para creacion de modelos basados en arbol de desición\n",
        "from sklearn.tree import DecisionTreeClassifier\n",
        "dtc = DecisionTreeClassifier(max_depth=15).fit(X_train, y_train)"
      ],
      "execution_count": 192,
      "outputs": []
    },
    {
      "cell_type": "code",
      "metadata": {
        "id": "es9DACZLCZpg",
        "colab_type": "code",
        "colab": {
          "base_uri": "https://localhost:8080/",
          "height": 156
        },
        "outputId": "87e45f48-118e-4de4-ccae-e194e23ee93a"
      },
      "source": [
        "# Target - Dataset\n",
        "predict_train =dtc.predict(X_train)\n",
        "print('\\nTarget alcançada ',predict_train) \n",
        " \n",
        "# Acurácia alcançada pela árvore de decisão\n",
        "accuracy_train = accuracy_score(y_train,predict_train)\n",
        "print('\\nAcurácia alcançada : {}%'.format(100*round(accuracy_train), 2))\n",
        " \n",
        "# prever o alvo no conjunto de dados de teste\n",
        "predict_test = dtc.predict(X_test)\n",
        "print('\\nTarget alcançada nos dados:',predict_test)\n",
        "\n",
        " \n",
        "# Acurácia alcançada pela árvore de decisão - Teste\n",
        "accuracy_test = accuracy_score(y_test,predict_test)\n",
        "print('\\nAcurácia alcançada no teste:{}%'.format(100*round(accuracy_test), 2))"
      ],
      "execution_count": 193,
      "outputs": [
        {
          "output_type": "stream",
          "text": [
            "\n",
            "Target alcançada  ['perfil6' 'perfil6' 'perfil5' ... 'perfil6' 'perfil6' 'perfil2']\n",
            "\n",
            "Acurácia alcançada : 100.0%\n",
            "\n",
            "Target alcançada nos dados: ['perfil2' 'perfil1' 'perfil2' ... 'perfil6' 'perfil6' 'perfil1']\n",
            "\n",
            "Acurácia alcançada no teste:100.0%\n"
          ],
          "name": "stdout"
        }
      ]
    },
    {
      "cell_type": "markdown",
      "metadata": {
        "id": "-d_5pkbQ_8NF",
        "colab_type": "text"
      },
      "source": [
        "### Fazendo previsões na amostra de teste"
      ]
    },
    {
      "cell_type": "code",
      "metadata": {
        "id": "ivUEgTZO_8NF",
        "colab_type": "code",
        "colab": {
          "base_uri": "https://localhost:8080/",
          "height": 35
        },
        "outputId": "7b881f11-031d-407a-ce16-fcc2186cd270"
      },
      "source": [
        "y_pred = dtc.predict(X_test)\n",
        "print(y_pred)"
      ],
      "execution_count": 194,
      "outputs": [
        {
          "output_type": "stream",
          "text": [
            "['perfil2' 'perfil1' 'perfil2' ... 'perfil6' 'perfil6' 'perfil1']\n"
          ],
          "name": "stdout"
        }
      ]
    },
    {
      "cell_type": "markdown",
      "metadata": {
        "id": "rUz0laUE_8NH",
        "colab_type": "text"
      },
      "source": [
        "### Analisando a qualidade do modelo através da matriz de confusão"
      ]
    },
    {
      "cell_type": "code",
      "metadata": {
        "id": "psokTz3i_8NJ",
        "colab_type": "code",
        "colab": {}
      },
      "source": [
        "import matplotlib.pyplot as plt\n",
        "import numpy as np\n",
        "import itertools\n",
        "\n",
        "\n",
        "def plot_confusion_matrix(cm, target_names, title='Confusion matrix', cmap=None, normalize=True):\n",
        "    accuracy = np.trace(cm) / float(np.sum(cm))\n",
        "    misclass = 1 - accuracy\n",
        "    if cmap is None:\n",
        "        cmap = plt.get_cmap('Blues')\n",
        "    plt.figure(figsize=(8, 6))\n",
        "    plt.imshow(cm, interpolation='nearest', cmap=cmap)\n",
        "    plt.title(title)\n",
        "    plt.colorbar()\n",
        "    if target_names is not None:\n",
        "        tick_marks = np.arange(len(target_names))\n",
        "        plt.xticks(tick_marks, target_names, rotation=45)\n",
        "        plt.yticks(tick_marks, target_names)\n",
        "    if normalize:\n",
        "        cm = cm.astype('float') / cm.sum(axis=1)[:, np.newaxis]\n",
        "    thresh = cm.max() / 1.5 if normalize else cm.max() / 2\n",
        "    for i, j in itertools.product(range(cm.shape[0]), range(cm.shape[1])):\n",
        "        if normalize:\n",
        "            plt.text(j, i, \"{:0.4f}\".format(cm[i, j]),\n",
        "                     horizontalalignment=\"center\",\n",
        "                     color=\"white\" if cm[i, j] > thresh else \"black\")\n",
        "        else:\n",
        "            plt.text(j, i, \"{:,}\".format(cm[i, j]),\n",
        "                     horizontalalignment=\"center\",\n",
        "                     color=\"white\" if cm[i, j] > thresh else \"black\")\n",
        "    plt.tight_layout()\n",
        "    plt.ylabel('True label')\n",
        "    plt.xlabel('Predicted label\\naccuracy={:0.4f}; misclass={:0.4f}'.format(accuracy, misclass))\n",
        "    plt.show()"
      ],
      "execution_count": 195,
      "outputs": []
    },
    {
      "cell_type": "code",
      "metadata": {
        "id": "yOTfnctR_8NM",
        "colab_type": "code",
        "colab": {
          "base_uri": "https://localhost:8080/",
          "height": 467
        },
        "outputId": "1290a1af-f0d9-4d6a-f98e-6987a25247d5"
      },
      "source": [
        "from sklearn.metrics import confusion_matrix\n",
        "plot_confusion_matrix(confusion_matrix(y_test, y_pred), ['parfil1', 'perfil2', 'perfil3', 'perfil4', 'perfil5', 'perfil6'])"
      ],
      "execution_count": 196,
      "outputs": [
        {
          "output_type": "display_data",
          "data": {
            "image/png": "[encoded data removed]",
            "text/plain": [
              "<Figure size 576x432 with 2 Axes>"
            ]
          },
          "metadata": {
            "tags": [],
            "needs_background": "light"
          }
        }
      ]
    },
    {
      "cell_type": "markdown",
      "metadata": {
        "id": "N5LHfzpC_8NP",
        "colab_type": "text"
      },
      "source": [
        "<hr>"
      ]
    },
    {
      "cell_type": "markdown",
      "metadata": {
        "id": "_dKCI_S0q8il",
        "colab_type": "text"
      },
      "source": [
        "# **Gera** dados sintéticos da classe minoritária.\n",
        "\n",
        "Instância o SMOTE"
      ]
    },
    {
      "cell_type": "code",
      "metadata": {
        "id": "Ixd71HXNta62",
        "colab_type": "code",
        "colab": {}
      },
      "source": [
        "from imblearn.over_sampling import SMOTE\n",
        "smt = SMOTE(random_state=0)\n",
        "X_train_SMOTE, y_train_SMOTE = smt.fit_sample(X_train, y_train)"
      ],
      "execution_count": 197,
      "outputs": []
    },
    {
      "cell_type": "code",
      "metadata": {
        "id": "hDdyfJn9BBGc",
        "colab_type": "code",
        "colab": {
          "base_uri": "https://localhost:8080/",
          "height": 139
        },
        "outputId": "5f96629b-675a-4864-e035-3a44f3ccdad3"
      },
      "source": [
        "y_train_SMOTE.value_counts()"
      ],
      "execution_count": 198,
      "outputs": [
        {
          "output_type": "execute_result",
          "data": {
            "text/plain": [
              "perfil4    1773\n",
              "perfil2    1773\n",
              "perfil1    1773\n",
              "perfil5    1773\n",
              "perfil6    1773\n",
              "perfil3    1773\n",
              "Name: categoria, dtype: int64"
            ]
          },
          "metadata": {
            "tags": []
          },
          "execution_count": 198
        }
      ]
    },
    {
      "cell_type": "code",
      "metadata": {
        "id": "wQD8cOJVA1ID",
        "colab_type": "code",
        "colab": {
          "base_uri": "https://localhost:8080/",
          "height": 279
        },
        "outputId": "37790313-8319-4a78-db68-9d5669429a75"
      },
      "source": [
        "ax = sns.countplot(y_train_SMOTE)"
      ],
      "execution_count": 199,
      "outputs": [
        {
          "output_type": "display_data",
          "data": {
            "image/png": "[encoded data removed]",
            "text/plain": [
              "<Figure size 432x288 with 1 Axes>"
            ]
          },
          "metadata": {
            "tags": [],
            "needs_background": "light"
          }
        }
      ]
    },
    {
      "cell_type": "code",
      "metadata": {
        "id": "D0hwnGL7tfDu",
        "colab_type": "code",
        "colab": {}
      },
      "source": [
        "from sklearn import datasets\n",
        "from sklearn.model_selection import cross_val_score\n",
        "from sklearn.metrics import confusion_matrix"
      ],
      "execution_count": 200,
      "outputs": []
    },
    {
      "cell_type": "code",
      "metadata": {
        "id": "iGDnbMTBtipp",
        "colab_type": "code",
        "colab": {}
      },
      "source": [
        "    dtc.fit(X_train_SMOTE, y_train_SMOTE)\n",
        "    preds = dtc.predict(X_test)\n",
        "    scores = cross_val_score(dtc, X_train_SMOTE, y_train_SMOTE, cv=3, scoring=\"accuracy\")\n",
        "    diff = scores.mean() - dtc.score(X_test, y_test)\n",
        "    SD = diff / scores.std()"
      ],
      "execution_count": 201,
      "outputs": []
    },
    {
      "cell_type": "code",
      "metadata": {
        "id": "uBYUW4m3tm8i",
        "colab_type": "code",
        "colab": {
          "base_uri": "https://localhost:8080/",
          "height": 208
        },
        "outputId": "fd83aba5-27e8-47a9-e182-f663c64f7b77"
      },
      "source": [
        "    print(f\"Training Score:{dtc.score(X_train, y_train)}\")\n",
        "    print(f\"Cross V Score: {scores.mean()} +/- {scores.std()}\")\n",
        "    print(f\"Testing Score: {dtc.score(X_test, y_test)}\")\n",
        "    print(f\"Cross & Test Diff: {diff}\")\n",
        "    print(f\"Standard Deviations Away: {SD}\")\n",
        "    print(confusion_matrix(y_test, preds))"
      ],
      "execution_count": 202,
      "outputs": [
        {
          "output_type": "stream",
          "text": [
            "Training Score:0.9231018818948734\n",
            "Cross V Score: 0.7699755593156609 +/- 0.04637084192240974\n",
            "Testing Score: 0.735117599351176\n",
            "Cross & Test Diff: 0.03485795996448482\n",
            "Standard Deviations Away: 0.7517215241166224\n",
            "[[ 657  101   28   44   36  108]\n",
            " [ 100 1219   70   77   56  104]\n",
            " [  22   37  302   10   17   42]\n",
            " [  24   59   32  434   35   58]\n",
            " [  29   79   25   20  531   75]\n",
            " [  73  125   48   48   51 1389]]\n"
          ],
          "name": "stdout"
        }
      ]
    },
    {
      "cell_type": "code",
      "metadata": {
        "id": "WLLuPhByII6e",
        "colab_type": "code",
        "colab": {
          "base_uri": "https://localhost:8080/",
          "height": 467
        },
        "outputId": "75ac1e4a-b693-435f-a5b2-982429574210"
      },
      "source": [
        "from sklearn.metrics import confusion_matrix\n",
        "plot_confusion_matrix(confusion_matrix(y_test, preds), ['parfil1', 'perfil2', 'perfil3', 'perfil4', 'perfil5', 'perfil6'])"
      ],
      "execution_count": 203,
      "outputs": [
        {
          "output_type": "display_data",
          "data": {
            "image/png": "[encoded data removed]",
            "text/plain": [
              "<Figure size 576x432 with 2 Axes>"
            ]
          },
          "metadata": {
            "tags": [],
            "needs_background": "light"
          }
        }
      ]
    },
    {
      "cell_type": "code",
      "metadata": {
        "id": "Jg7mGQc3tn4Z",
        "colab_type": "code",
        "colab": {
          "base_uri": "https://localhost:8080/",
          "height": 52
        },
        "outputId": "603643c5-7f85-4921-8580-befcaeb4bc9a"
      },
      "source": [
        "# prever o alvo no conjunto de dados de teste\n",
        "preds = dtc.predict(X_test)\n",
        "print('\\nTarget alcançada nos dados:',preds)"
      ],
      "execution_count": 204,
      "outputs": [
        {
          "output_type": "stream",
          "text": [
            "\n",
            "Target alcançada nos dados: ['perfil3' 'perfil6' 'perfil2' ... 'perfil6' 'perfil6' 'perfil1']\n"
          ],
          "name": "stdout"
        }
      ]
    },
    {
      "cell_type": "code",
      "metadata": {
        "id": "M0xlrGVdtyW7",
        "colab_type": "code",
        "colab": {
          "base_uri": "https://localhost:8080/",
          "height": 173
        },
        "outputId": "c1ab395e-a400-478e-b7e0-d3a96cf3aa9b"
      },
      "source": [
        "print (pd.crosstab(y_test, preds, rownames=['Real'], colnames=['Predito'], margins=True))"
      ],
      "execution_count": 205,
      "outputs": [
        {
          "output_type": "stream",
          "text": [
            "Predito  perfil1  perfil2  perfil3  perfil4  perfil5  perfil6   All\n",
            "Real                                                               \n",
            "perfil1      657      101       28       44       36      108   974\n",
            "perfil2      100     1219       70       77       56      104  1626\n",
            "perfil3       22       37      302       10       17       42   430\n",
            "perfil4       24       59       32      434       35       58   642\n",
            "perfil5       29       79       25       20      531       75   759\n",
            "perfil6       73      125       48       48       51     1389  1734\n",
            "All          905     1620      505      633      726     1776  6165\n"
          ],
          "name": "stdout"
        }
      ]
    },
    {
      "cell_type": "code",
      "metadata": {
        "id": "u61W-FkWt1qE",
        "colab_type": "code",
        "colab": {
          "base_uri": "https://localhost:8080/",
          "height": 35
        },
        "outputId": "99a495c7-35b4-4b2b-e9b7-9d9b30e80054"
      },
      "source": [
        "#Checa a acurácia do modelo\n",
        "accuracy_score(y_test, preds)"
      ],
      "execution_count": 206,
      "outputs": [
        {
          "output_type": "execute_result",
          "data": {
            "text/plain": [
              "0.735117599351176"
            ]
          },
          "metadata": {
            "tags": []
          },
          "execution_count": 206
        }
      ]
    },
    {
      "cell_type": "code",
      "metadata": {
        "id": "ANPw6kjXt5vU",
        "colab_type": "code",
        "colab": {
          "base_uri": "https://localhost:8080/",
          "height": 243
        },
        "outputId": "729fb77d-e9da-45d3-910f-696bc9d7e73e"
      },
      "source": [
        "#Recall\n",
        "print (classification_report(y_test, preds))"
      ],
      "execution_count": 207,
      "outputs": [
        {
          "output_type": "stream",
          "text": [
            "              precision    recall  f1-score   support\n",
            "\n",
            "     perfil1       0.73      0.67      0.70       974\n",
            "     perfil2       0.75      0.75      0.75      1626\n",
            "     perfil3       0.60      0.70      0.65       430\n",
            "     perfil4       0.69      0.68      0.68       642\n",
            "     perfil5       0.73      0.70      0.72       759\n",
            "     perfil6       0.78      0.80      0.79      1734\n",
            "\n",
            "    accuracy                           0.74      6165\n",
            "   macro avg       0.71      0.72      0.71      6165\n",
            "weighted avg       0.74      0.74      0.74      6165\n",
            "\n"
          ],
          "name": "stdout"
        }
      ]
    },
    {
      "cell_type": "code",
      "metadata": {
        "id": "iU5XcUubt8sG",
        "colab_type": "code",
        "colab": {
          "base_uri": "https://localhost:8080/",
          "height": 173
        },
        "outputId": "cfb53d73-44df-4bc9-9089-cb4f44c438a6"
      },
      "source": [
        "#Matriz de Confusão\n",
        "print (pd.crosstab(y_test, preds, rownames=['Real'], colnames=['Predito'], margins=True))"
      ],
      "execution_count": 208,
      "outputs": [
        {
          "output_type": "stream",
          "text": [
            "Predito  perfil1  perfil2  perfil3  perfil4  perfil5  perfil6   All\n",
            "Real                                                               \n",
            "perfil1      657      101       28       44       36      108   974\n",
            "perfil2      100     1219       70       77       56      104  1626\n",
            "perfil3       22       37      302       10       17       42   430\n",
            "perfil4       24       59       32      434       35       58   642\n",
            "perfil5       29       79       25       20      531       75   759\n",
            "perfil6       73      125       48       48       51     1389  1734\n",
            "All          905     1620      505      633      726     1776  6165\n"
          ],
          "name": "stdout"
        }
      ]
    },
    {
      "cell_type": "markdown",
      "metadata": {
        "id": "8yqKFDYM_8NP",
        "colab_type": "text"
      },
      "source": [
        "## Scoring dos dados necessários para entregar a solução"
      ]
    },
    {
      "cell_type": "markdown",
      "metadata": {
        "id": "pQidLPmq_8NQ",
        "colab_type": "text"
      },
      "source": [
        "Como entrega da sua solução, esperamos os resultados classificados no seguinte dataset chamado \"to_be_scored.csv\":"
      ]
    },
    {
      "cell_type": "markdown",
      "metadata": {
        "id": "u7xAcBmf_8NQ",
        "colab_type": "text"
      },
      "source": [
        "### Download da \"folha de respostas\""
      ]
    },
    {
      "cell_type": "code",
      "metadata": {
        "scrolled": false,
        "id": "jgjNGHUM_8NR",
        "colab_type": "code",
        "colab": {
          "base_uri": "https://localhost:8080/",
          "height": 482
        },
        "outputId": "b1e14f4f-0e76-4842-da3b-aab05ef7999a"
      },
      "source": [
        "!wget --no-check-certificate --content-disposition https://raw.githubusercontent.com/vanderlei-test/dataset-3/master/to_be_scored.csv\n",
        "df_to_be_scored = pd.read_csv(r'to_be_scored.csv')\n",
        "df_to_be_scored.tail()"
      ],
      "execution_count": 209,
      "outputs": [
        {
          "output_type": "stream",
          "text": [
            "--2020-09-18 18:25:41--  https://raw.githubusercontent.com/vanderlei-test/dataset-3/master/to_be_scored.csv\n",
            "Resolving raw.githubusercontent.com (raw.githubusercontent.com)... 151.101.0.133, 151.101.64.133, 151.101.128.133, ...\n",
            "Connecting to raw.githubusercontent.com (raw.githubusercontent.com)|151.101.0.133|:443... connected.\n",
            "HTTP request sent, awaiting response... 200 OK\n",
            "Length: 96291 (94K) [text/plain]\n",
            "Saving to: ‘to_be_scored.csv’\n",
            "\n",
            "to_be_scored.csv    100%[===================>]  94.03K  --.-KB/s    in 0.02s   \n",
            "\n",
            "2020-09-18 18:25:42 (5.54 MB/s) - ‘to_be_scored.csv’ saved [96291/96291]\n",
            "\n"
          ],
          "name": "stdout"
        },
        {
          "output_type": "execute_result",
          "data": {
            "text/html": [
              "<div>\n",
              "<style scoped>\n",
              "    .dataframe tbody tr th:only-of-type {\n",
              "        vertical-align: middle;\n",
              "    }\n",
              "\n",
              "    .dataframe tbody tr th {\n",
              "        vertical-align: top;\n",
              "    }\n",
              "\n",
              "    .dataframe thead th {\n",
              "        text-align: right;\n",
              "    }\n",
              "</style>\n",
              "<table border=\"1\" class=\"dataframe\">\n",
              "  <thead>\n",
              "    <tr style=\"text-align: right;\">\n",
              "      <th></th>\n",
              "      <th>id</th>\n",
              "      <th>graduacao</th>\n",
              "      <th>universidade</th>\n",
              "      <th>profissao</th>\n",
              "      <th>organizacao</th>\n",
              "      <th>pretende_fazer_cursos_lit</th>\n",
              "      <th>interesse_mba_lit</th>\n",
              "      <th>importante_ter_certificado</th>\n",
              "      <th>horas_semanais_estudo</th>\n",
              "      <th>como_conheceu_lit</th>\n",
              "      <th>total_modulos</th>\n",
              "      <th>modulos_iniciados</th>\n",
              "      <th>modulos_finalizados</th>\n",
              "      <th>certificados</th>\n",
              "    </tr>\n",
              "  </thead>\n",
              "  <tbody>\n",
              "    <tr>\n",
              "      <th>995</th>\n",
              "      <td>741745189</td>\n",
              "      <td>SEM FORMAÇÃO</td>\n",
              "      <td>UNIVERSIDADE NOVE DE JULHO</td>\n",
              "      <td>Coordenador</td>\n",
              "      <td>Borracha</td>\n",
              "      <td>0</td>\n",
              "      <td>0</td>\n",
              "      <td>1</td>\n",
              "      <td>2</td>\n",
              "      <td>YouTube</td>\n",
              "      <td>245</td>\n",
              "      <td>63</td>\n",
              "      <td>45</td>\n",
              "      <td>1</td>\n",
              "    </tr>\n",
              "    <tr>\n",
              "      <th>996</th>\n",
              "      <td>996387882</td>\n",
              "      <td>Bacharelado</td>\n",
              "      <td>UFRN</td>\n",
              "      <td>Assessor</td>\n",
              "      <td>Estado</td>\n",
              "      <td>1</td>\n",
              "      <td>1</td>\n",
              "      <td>1</td>\n",
              "      <td>8</td>\n",
              "      <td>Google</td>\n",
              "      <td>163</td>\n",
              "      <td>111</td>\n",
              "      <td>96</td>\n",
              "      <td>0</td>\n",
              "    </tr>\n",
              "    <tr>\n",
              "      <th>997</th>\n",
              "      <td>668869418</td>\n",
              "      <td>Bacharelado</td>\n",
              "      <td>UFSCar</td>\n",
              "      <td>Gerente</td>\n",
              "      <td>Siderurgica</td>\n",
              "      <td>1</td>\n",
              "      <td>1</td>\n",
              "      <td>1</td>\n",
              "      <td>9</td>\n",
              "      <td>Facebook</td>\n",
              "      <td>56</td>\n",
              "      <td>10</td>\n",
              "      <td>4</td>\n",
              "      <td>0</td>\n",
              "    </tr>\n",
              "    <tr>\n",
              "      <th>998</th>\n",
              "      <td>676531718</td>\n",
              "      <td>Tecnólogo</td>\n",
              "      <td>FATEC</td>\n",
              "      <td>Outros</td>\n",
              "      <td>servicos</td>\n",
              "      <td>1</td>\n",
              "      <td>1</td>\n",
              "      <td>1</td>\n",
              "      <td>9</td>\n",
              "      <td>Mídia (revista/jornal/web)</td>\n",
              "      <td>138</td>\n",
              "      <td>60</td>\n",
              "      <td>30</td>\n",
              "      <td>0</td>\n",
              "    </tr>\n",
              "    <tr>\n",
              "      <th>999</th>\n",
              "      <td>388402340</td>\n",
              "      <td>Especialização</td>\n",
              "      <td>UNIP</td>\n",
              "      <td>Advogado</td>\n",
              "      <td>Montadora</td>\n",
              "      <td>0</td>\n",
              "      <td>0</td>\n",
              "      <td>1</td>\n",
              "      <td>9</td>\n",
              "      <td>Mídia (revista/jornal/web)</td>\n",
              "      <td>22</td>\n",
              "      <td>20</td>\n",
              "      <td>19</td>\n",
              "      <td>0</td>\n",
              "    </tr>\n",
              "  </tbody>\n",
              "</table>\n",
              "</div>"
            ],
            "text/plain": [
              "            id       graduacao  ... modulos_finalizados certificados\n",
              "995  741745189    SEM FORMAÇÃO  ...                  45            1\n",
              "996  996387882     Bacharelado  ...                  96            0\n",
              "997  668869418     Bacharelado  ...                   4            0\n",
              "998  676531718       Tecnólogo  ...                  30            0\n",
              "999  388402340  Especialização  ...                  19            0\n",
              "\n",
              "[5 rows x 14 columns]"
            ]
          },
          "metadata": {
            "tags": []
          },
          "execution_count": 209
        }
      ]
    },
    {
      "cell_type": "markdown",
      "metadata": {
        "id": "ihIaesCJ_8NU",
        "colab_type": "text"
      },
      "source": [
        "# Atenção!\n",
        "\n",
        "O dataframe ``to_be_scored`` é a sua \"folha de respostas\". Note que a coluna \"categoria\" não existe nessa amostra, que não pode ser então utilizada para treino de modelos de aprendizado supervisionado."
      ]
    },
    {
      "cell_type": "code",
      "metadata": {
        "scrolled": true,
        "id": "lCe-Riwr_8NU",
        "colab_type": "code",
        "colab": {
          "base_uri": "https://localhost:8080/",
          "height": 381
        },
        "outputId": "053fafa7-999e-4e85-f40a-7a3c6493b12c"
      },
      "source": [
        "df_to_be_scored.info()"
      ],
      "execution_count": 210,
      "outputs": [
        {
          "output_type": "stream",
          "text": [
            "<class 'pandas.core.frame.DataFrame'>\n",
            "RangeIndex: 1000 entries, 0 to 999\n",
            "Data columns (total 14 columns):\n",
            " #   Column                      Non-Null Count  Dtype \n",
            "---  ------                      --------------  ----- \n",
            " 0   id                          1000 non-null   int64 \n",
            " 1   graduacao                   1000 non-null   object\n",
            " 2   universidade                1000 non-null   object\n",
            " 3   profissao                   1000 non-null   object\n",
            " 4   organizacao                 1000 non-null   object\n",
            " 5   pretende_fazer_cursos_lit   1000 non-null   int64 \n",
            " 6   interesse_mba_lit           1000 non-null   int64 \n",
            " 7   importante_ter_certificado  1000 non-null   int64 \n",
            " 8   horas_semanais_estudo       1000 non-null   int64 \n",
            " 9   como_conheceu_lit           1000 non-null   object\n",
            " 10  total_modulos               1000 non-null   int64 \n",
            " 11  modulos_iniciados           1000 non-null   int64 \n",
            " 12  modulos_finalizados         1000 non-null   int64 \n",
            " 13  certificados                1000 non-null   int64 \n",
            "dtypes: int64(9), object(5)\n",
            "memory usage: 109.5+ KB\n"
          ],
          "name": "stdout"
        }
      ]
    },
    {
      "cell_type": "markdown",
      "metadata": {
        "id": "Qf3jhLU6_8NX",
        "colab_type": "text"
      },
      "source": [
        "<hr>\n",
        "\n",
        "# Atenção!\n",
        "\n",
        "# Para poder aplicar seu modelo e classificar a folha de respostas, você precisa primeiro aplicar as mesmas transformações com colunas que você aplicou no dataset de treino.\n",
        "\n",
        "# Não remova ou adicione linhas na folha de respostas. \n",
        "\n",
        "# Não altere a ordem das linhas na folha de respostas.\n",
        "\n",
        "# Ao final, as 1000 entradas devem estar classificadas, com os valores previstos em uma coluna chamada \"target\"\n",
        "\n",
        "<hr>"
      ]
    },
    {
      "cell_type": "markdown",
      "metadata": {
        "id": "CLi-EOJs_8NY",
        "colab_type": "text"
      },
      "source": [
        "Na célula abaixo, repetimos rapidamente os mesmos passos de pré-processamento usados no exemplo dado com árvore de decisão"
      ]
    },
    {
      "cell_type": "code",
      "metadata": {
        "id": "GdSLSvyz_8NY",
        "colab_type": "code",
        "colab": {
          "base_uri": "https://localhost:8080/",
          "height": 239
        },
        "outputId": "9ee7f5ef-c05d-4fba-b1e4-5680c979f977"
      },
      "source": [
        "# 1 - Removendo linhas com valores NaN em \"certificados\" e \"total_modulos\"\n",
        "df_to_be_scored_1 = df_to_be_scored.dropna(axis='index', how='any', subset=['certificados', 'total_modulos'])\n",
        "\n",
        "# 2 - Inputando zeros nos valores faltantes\n",
        "impute_zeros.fit(X=df_to_be_scored_1)\n",
        "df_to_be_scored_2 = pd.DataFrame.from_records(\n",
        "    data=impute_zeros.transform(\n",
        "        X=df_to_be_scored_1\n",
        "    ),\n",
        "    columns=df_to_be_scored_1.columns\n",
        ")\n",
        "\n",
        "# 3 - Remoção de colunas\n",
        "df_to_be_scored_3 = df_to_be_scored_2.drop(columns=['id', 'graduacao', 'universidade', 'organizacao', 'como_conheceu_lit'], inplace=False)\n",
        "\n",
        "# 4 - Encoding com \"dummy variables\"\n",
        "df_to_be_scored_4 = pd.get_dummies(df_to_be_scored_3, columns=['profissao'])\n",
        "\n",
        "df_to_be_scored_4.tail()"
      ],
      "execution_count": 211,
      "outputs": [
        {
          "output_type": "execute_result",
          "data": {
            "text/html": [
              "<div>\n",
              "<style scoped>\n",
              "    .dataframe tbody tr th:only-of-type {\n",
              "        vertical-align: middle;\n",
              "    }\n",
              "\n",
              "    .dataframe tbody tr th {\n",
              "        vertical-align: top;\n",
              "    }\n",
              "\n",
              "    .dataframe thead th {\n",
              "        text-align: right;\n",
              "    }\n",
              "</style>\n",
              "<table border=\"1\" class=\"dataframe\">\n",
              "  <thead>\n",
              "    <tr style=\"text-align: right;\">\n",
              "      <th></th>\n",
              "      <th>pretende_fazer_cursos_lit</th>\n",
              "      <th>interesse_mba_lit</th>\n",
              "      <th>importante_ter_certificado</th>\n",
              "      <th>horas_semanais_estudo</th>\n",
              "      <th>total_modulos</th>\n",
              "      <th>modulos_iniciados</th>\n",
              "      <th>modulos_finalizados</th>\n",
              "      <th>certificados</th>\n",
              "      <th>profissao_Advogado</th>\n",
              "      <th>profissao_Analista</th>\n",
              "      <th>profissao_Analista Senior</th>\n",
              "      <th>profissao_Assessor</th>\n",
              "      <th>profissao_Coordenador</th>\n",
              "      <th>profissao_Diretor</th>\n",
              "      <th>profissao_Engenheiro</th>\n",
              "      <th>profissao_Gerente</th>\n",
              "      <th>profissao_Outros</th>\n",
              "      <th>profissao_SEM EXPERIÊNCIA</th>\n",
              "      <th>profissao_Supervisor</th>\n",
              "      <th>profissao_Sócio/Dono/Proprietário</th>\n",
              "    </tr>\n",
              "  </thead>\n",
              "  <tbody>\n",
              "    <tr>\n",
              "      <th>995</th>\n",
              "      <td>0</td>\n",
              "      <td>0</td>\n",
              "      <td>1</td>\n",
              "      <td>2</td>\n",
              "      <td>245</td>\n",
              "      <td>63</td>\n",
              "      <td>45</td>\n",
              "      <td>1</td>\n",
              "      <td>0</td>\n",
              "      <td>0</td>\n",
              "      <td>0</td>\n",
              "      <td>0</td>\n",
              "      <td>1</td>\n",
              "      <td>0</td>\n",
              "      <td>0</td>\n",
              "      <td>0</td>\n",
              "      <td>0</td>\n",
              "      <td>0</td>\n",
              "      <td>0</td>\n",
              "      <td>0</td>\n",
              "    </tr>\n",
              "    <tr>\n",
              "      <th>996</th>\n",
              "      <td>1</td>\n",
              "      <td>1</td>\n",
              "      <td>1</td>\n",
              "      <td>8</td>\n",
              "      <td>163</td>\n",
              "      <td>111</td>\n",
              "      <td>96</td>\n",
              "      <td>0</td>\n",
              "      <td>0</td>\n",
              "      <td>0</td>\n",
              "      <td>0</td>\n",
              "      <td>1</td>\n",
              "      <td>0</td>\n",
              "      <td>0</td>\n",
              "      <td>0</td>\n",
              "      <td>0</td>\n",
              "      <td>0</td>\n",
              "      <td>0</td>\n",
              "      <td>0</td>\n",
              "      <td>0</td>\n",
              "    </tr>\n",
              "    <tr>\n",
              "      <th>997</th>\n",
              "      <td>1</td>\n",
              "      <td>1</td>\n",
              "      <td>1</td>\n",
              "      <td>9</td>\n",
              "      <td>56</td>\n",
              "      <td>10</td>\n",
              "      <td>4</td>\n",
              "      <td>0</td>\n",
              "      <td>0</td>\n",
              "      <td>0</td>\n",
              "      <td>0</td>\n",
              "      <td>0</td>\n",
              "      <td>0</td>\n",
              "      <td>0</td>\n",
              "      <td>0</td>\n",
              "      <td>1</td>\n",
              "      <td>0</td>\n",
              "      <td>0</td>\n",
              "      <td>0</td>\n",
              "      <td>0</td>\n",
              "    </tr>\n",
              "    <tr>\n",
              "      <th>998</th>\n",
              "      <td>1</td>\n",
              "      <td>1</td>\n",
              "      <td>1</td>\n",
              "      <td>9</td>\n",
              "      <td>138</td>\n",
              "      <td>60</td>\n",
              "      <td>30</td>\n",
              "      <td>0</td>\n",
              "      <td>0</td>\n",
              "      <td>0</td>\n",
              "      <td>0</td>\n",
              "      <td>0</td>\n",
              "      <td>0</td>\n",
              "      <td>0</td>\n",
              "      <td>0</td>\n",
              "      <td>0</td>\n",
              "      <td>1</td>\n",
              "      <td>0</td>\n",
              "      <td>0</td>\n",
              "      <td>0</td>\n",
              "    </tr>\n",
              "    <tr>\n",
              "      <th>999</th>\n",
              "      <td>0</td>\n",
              "      <td>0</td>\n",
              "      <td>1</td>\n",
              "      <td>9</td>\n",
              "      <td>22</td>\n",
              "      <td>20</td>\n",
              "      <td>19</td>\n",
              "      <td>0</td>\n",
              "      <td>1</td>\n",
              "      <td>0</td>\n",
              "      <td>0</td>\n",
              "      <td>0</td>\n",
              "      <td>0</td>\n",
              "      <td>0</td>\n",
              "      <td>0</td>\n",
              "      <td>0</td>\n",
              "      <td>0</td>\n",
              "      <td>0</td>\n",
              "      <td>0</td>\n",
              "      <td>0</td>\n",
              "    </tr>\n",
              "  </tbody>\n",
              "</table>\n",
              "</div>"
            ],
            "text/plain": [
              "     pretende_fazer_cursos_lit  ...  profissao_Sócio/Dono/Proprietário\n",
              "995                          0  ...                                  0\n",
              "996                          1  ...                                  0\n",
              "997                          1  ...                                  0\n",
              "998                          1  ...                                  0\n",
              "999                          0  ...                                  0\n",
              "\n",
              "[5 rows x 20 columns]"
            ]
          },
          "metadata": {
            "tags": []
          },
          "execution_count": 211
        }
      ]
    },
    {
      "cell_type": "markdown",
      "metadata": {
        "id": "y6MOyXYJ_8Na",
        "colab_type": "text"
      },
      "source": [
        "<hr>\n",
        "\n",
        "Pode ser verificado abaixo que as colunas da folha de resposta agora são idênticas às que foram usadas para treinar o modelo:"
      ]
    },
    {
      "cell_type": "code",
      "metadata": {
        "id": "l4KR7una_8Nb",
        "colab_type": "code",
        "colab": {
          "base_uri": "https://localhost:8080/",
          "height": 173
        },
        "outputId": "75a1f803-7460-4b86-9764-58930a0e292c"
      },
      "source": [
        "df_training[\n",
        "    [\n",
        "        'pretende_fazer_cursos_lit', 'interesse_mba_lit',\n",
        "        'importante_ter_certificado', 'horas_semanais_estudo', 'total_modulos',\n",
        "        'modulos_iniciados', 'modulos_finalizados', 'certificados',\n",
        "        'profissao_0', 'profissao_Advogado', 'profissao_Analista',\n",
        "        'profissao_Analista Senior', 'profissao_Assessor',\n",
        "        'profissao_Coordenador', 'profissao_Diretor', 'profissao_Engenheiro',\n",
        "        'profissao_Gerente', 'profissao_Outros', 'profissao_SEM EXPERIÊNCIA',\n",
        "        'profissao_Supervisor', 'profissao_Sócio/Dono/Proprietário'\n",
        "    ]\n",
        "].columns"
      ],
      "execution_count": 212,
      "outputs": [
        {
          "output_type": "execute_result",
          "data": {
            "text/plain": [
              "Index(['pretende_fazer_cursos_lit', 'interesse_mba_lit',\n",
              "       'importante_ter_certificado', 'horas_semanais_estudo', 'total_modulos',\n",
              "       'modulos_iniciados', 'modulos_finalizados', 'certificados',\n",
              "       'profissao_0', 'profissao_Advogado', 'profissao_Analista',\n",
              "       'profissao_Analista Senior', 'profissao_Assessor',\n",
              "       'profissao_Coordenador', 'profissao_Diretor', 'profissao_Engenheiro',\n",
              "       'profissao_Gerente', 'profissao_Outros', 'profissao_SEM EXPERIÊNCIA',\n",
              "       'profissao_Supervisor', 'profissao_Sócio/Dono/Proprietário'],\n",
              "      dtype='object')"
            ]
          },
          "metadata": {
            "tags": []
          },
          "execution_count": 212
        }
      ]
    },
    {
      "cell_type": "code",
      "metadata": {
        "id": "DRbIWgtN_8Ne",
        "colab_type": "code",
        "colab": {
          "base_uri": "https://localhost:8080/",
          "height": 173
        },
        "outputId": "740cd8a3-c8d7-4a25-ad9e-4702df6c79ee"
      },
      "source": [
        "df_to_be_scored_4.columns"
      ],
      "execution_count": 213,
      "outputs": [
        {
          "output_type": "execute_result",
          "data": {
            "text/plain": [
              "Index(['pretende_fazer_cursos_lit', 'interesse_mba_lit',\n",
              "       'importante_ter_certificado', 'horas_semanais_estudo', 'total_modulos',\n",
              "       'modulos_iniciados', 'modulos_finalizados', 'certificados',\n",
              "       'profissao_Advogado', 'profissao_Analista', 'profissao_Analista Senior',\n",
              "       'profissao_Assessor', 'profissao_Coordenador', 'profissao_Diretor',\n",
              "       'profissao_Engenheiro', 'profissao_Gerente', 'profissao_Outros',\n",
              "       'profissao_SEM EXPERIÊNCIA', 'profissao_Supervisor',\n",
              "       'profissao_Sócio/Dono/Proprietário'],\n",
              "      dtype='object')"
            ]
          },
          "metadata": {
            "tags": []
          },
          "execution_count": 213
        }
      ]
    },
    {
      "cell_type": "markdown",
      "metadata": {
        "id": "fHGUUVRf_8Nh",
        "colab_type": "text"
      },
      "source": [
        "# Atenção\n",
        "\n",
        "Para todas colunas que não existirem no \"df_to_be_scored\", você pode usar a técnica abaixo para adicioná-las:"
      ]
    },
    {
      "cell_type": "code",
      "metadata": {
        "id": "FhKpMwAo_8Nh",
        "colab_type": "code",
        "colab": {}
      },
      "source": [
        "df_to_be_scored_4['profissao_0'] = 0"
      ],
      "execution_count": 214,
      "outputs": []
    },
    {
      "cell_type": "code",
      "metadata": {
        "scrolled": false,
        "id": "tDxpwOBa_8Nk",
        "colab_type": "code",
        "colab": {
          "base_uri": "https://localhost:8080/",
          "height": 239
        },
        "outputId": "72ce42a2-d6de-49c1-f015-21e6a1ff94d0"
      },
      "source": [
        "y_pred = dtc.predict(df_to_be_scored_4)\n",
        "df_to_be_scored_4['target'] =y_pred\n",
        "df_to_be_scored_4.tail()"
      ],
      "execution_count": 215,
      "outputs": [
        {
          "output_type": "execute_result",
          "data": {
            "text/html": [
              "<div>\n",
              "<style scoped>\n",
              "    .dataframe tbody tr th:only-of-type {\n",
              "        vertical-align: middle;\n",
              "    }\n",
              "\n",
              "    .dataframe tbody tr th {\n",
              "        vertical-align: top;\n",
              "    }\n",
              "\n",
              "    .dataframe thead th {\n",
              "        text-align: right;\n",
              "    }\n",
              "</style>\n",
              "<table border=\"1\" class=\"dataframe\">\n",
              "  <thead>\n",
              "    <tr style=\"text-align: right;\">\n",
              "      <th></th>\n",
              "      <th>pretende_fazer_cursos_lit</th>\n",
              "      <th>interesse_mba_lit</th>\n",
              "      <th>importante_ter_certificado</th>\n",
              "      <th>horas_semanais_estudo</th>\n",
              "      <th>total_modulos</th>\n",
              "      <th>modulos_iniciados</th>\n",
              "      <th>modulos_finalizados</th>\n",
              "      <th>certificados</th>\n",
              "      <th>profissao_Advogado</th>\n",
              "      <th>profissao_Analista</th>\n",
              "      <th>profissao_Analista Senior</th>\n",
              "      <th>profissao_Assessor</th>\n",
              "      <th>profissao_Coordenador</th>\n",
              "      <th>profissao_Diretor</th>\n",
              "      <th>profissao_Engenheiro</th>\n",
              "      <th>profissao_Gerente</th>\n",
              "      <th>profissao_Outros</th>\n",
              "      <th>profissao_SEM EXPERIÊNCIA</th>\n",
              "      <th>profissao_Supervisor</th>\n",
              "      <th>profissao_Sócio/Dono/Proprietário</th>\n",
              "      <th>profissao_0</th>\n",
              "      <th>target</th>\n",
              "    </tr>\n",
              "  </thead>\n",
              "  <tbody>\n",
              "    <tr>\n",
              "      <th>995</th>\n",
              "      <td>0</td>\n",
              "      <td>0</td>\n",
              "      <td>1</td>\n",
              "      <td>2</td>\n",
              "      <td>245</td>\n",
              "      <td>63</td>\n",
              "      <td>45</td>\n",
              "      <td>1</td>\n",
              "      <td>0</td>\n",
              "      <td>0</td>\n",
              "      <td>0</td>\n",
              "      <td>0</td>\n",
              "      <td>1</td>\n",
              "      <td>0</td>\n",
              "      <td>0</td>\n",
              "      <td>0</td>\n",
              "      <td>0</td>\n",
              "      <td>0</td>\n",
              "      <td>0</td>\n",
              "      <td>0</td>\n",
              "      <td>0</td>\n",
              "      <td>perfil1</td>\n",
              "    </tr>\n",
              "    <tr>\n",
              "      <th>996</th>\n",
              "      <td>1</td>\n",
              "      <td>1</td>\n",
              "      <td>1</td>\n",
              "      <td>8</td>\n",
              "      <td>163</td>\n",
              "      <td>111</td>\n",
              "      <td>96</td>\n",
              "      <td>0</td>\n",
              "      <td>0</td>\n",
              "      <td>0</td>\n",
              "      <td>0</td>\n",
              "      <td>1</td>\n",
              "      <td>0</td>\n",
              "      <td>0</td>\n",
              "      <td>0</td>\n",
              "      <td>0</td>\n",
              "      <td>0</td>\n",
              "      <td>0</td>\n",
              "      <td>0</td>\n",
              "      <td>0</td>\n",
              "      <td>0</td>\n",
              "      <td>perfil2</td>\n",
              "    </tr>\n",
              "    <tr>\n",
              "      <th>997</th>\n",
              "      <td>1</td>\n",
              "      <td>1</td>\n",
              "      <td>1</td>\n",
              "      <td>9</td>\n",
              "      <td>56</td>\n",
              "      <td>10</td>\n",
              "      <td>4</td>\n",
              "      <td>0</td>\n",
              "      <td>0</td>\n",
              "      <td>0</td>\n",
              "      <td>0</td>\n",
              "      <td>0</td>\n",
              "      <td>0</td>\n",
              "      <td>0</td>\n",
              "      <td>0</td>\n",
              "      <td>1</td>\n",
              "      <td>0</td>\n",
              "      <td>0</td>\n",
              "      <td>0</td>\n",
              "      <td>0</td>\n",
              "      <td>0</td>\n",
              "      <td>perfil6</td>\n",
              "    </tr>\n",
              "    <tr>\n",
              "      <th>998</th>\n",
              "      <td>1</td>\n",
              "      <td>1</td>\n",
              "      <td>1</td>\n",
              "      <td>9</td>\n",
              "      <td>138</td>\n",
              "      <td>60</td>\n",
              "      <td>30</td>\n",
              "      <td>0</td>\n",
              "      <td>0</td>\n",
              "      <td>0</td>\n",
              "      <td>0</td>\n",
              "      <td>0</td>\n",
              "      <td>0</td>\n",
              "      <td>0</td>\n",
              "      <td>0</td>\n",
              "      <td>0</td>\n",
              "      <td>1</td>\n",
              "      <td>0</td>\n",
              "      <td>0</td>\n",
              "      <td>0</td>\n",
              "      <td>0</td>\n",
              "      <td>perfil2</td>\n",
              "    </tr>\n",
              "    <tr>\n",
              "      <th>999</th>\n",
              "      <td>0</td>\n",
              "      <td>0</td>\n",
              "      <td>1</td>\n",
              "      <td>9</td>\n",
              "      <td>22</td>\n",
              "      <td>20</td>\n",
              "      <td>19</td>\n",
              "      <td>0</td>\n",
              "      <td>1</td>\n",
              "      <td>0</td>\n",
              "      <td>0</td>\n",
              "      <td>0</td>\n",
              "      <td>0</td>\n",
              "      <td>0</td>\n",
              "      <td>0</td>\n",
              "      <td>0</td>\n",
              "      <td>0</td>\n",
              "      <td>0</td>\n",
              "      <td>0</td>\n",
              "      <td>0</td>\n",
              "      <td>0</td>\n",
              "      <td>perfil3</td>\n",
              "    </tr>\n",
              "  </tbody>\n",
              "</table>\n",
              "</div>"
            ],
            "text/plain": [
              "     pretende_fazer_cursos_lit  interesse_mba_lit  ...  profissao_0   target\n",
              "995                          0                  0  ...            0  perfil1\n",
              "996                          1                  1  ...            0  perfil2\n",
              "997                          1                  1  ...            0  perfil6\n",
              "998                          1                  1  ...            0  perfil2\n",
              "999                          0                  0  ...            0  perfil3\n",
              "\n",
              "[5 rows x 22 columns]"
            ]
          },
          "metadata": {
            "tags": []
          },
          "execution_count": 215
        }
      ]
    },
    {
      "cell_type": "markdown",
      "metadata": {
        "id": "zI-SFiou_8Nn",
        "colab_type": "text"
      },
      "source": [
        "### Salvando a folha de respostas como um arquivo .csv para ser submetido"
      ]
    },
    {
      "cell_type": "code",
      "metadata": {
        "id": "yp5DDx7r_8No",
        "colab_type": "code",
        "colab": {}
      },
      "source": [
        "df = pd.DataFrame(df_to_be_scored_4)\n",
        "  \n",
        "# saving the dataframe \n",
        "df.to_csv('results.csv',index=False) \n",
        "\n",
        "\n",
        "#project.save_data(file_name=\"results.csv\", data=df_to_be_scored_4.to_csv(index=False))"
      ],
      "execution_count": 224,
      "outputs": []
    },
    {
      "cell_type": "markdown",
      "metadata": {
        "id": "fUliRqCk_8Ns",
        "colab_type": "text"
      },
      "source": [
        "# Atenção\n",
        "\n",
        "# A execução da célula acima irá criar um novo \"data asset\" no seu projeto no Watson Studio. Você precisará realizar o download deste arquivo juntamente com este notebook e criar um arquivo zip com os arquivos **results.csv** e **notebook.ipynb** para submissão. (os arquivos devem estar nomeados desta forma)"
      ]
    },
    {
      "cell_type": "markdown",
      "metadata": {
        "id": "l7rvMpnD_8Ns",
        "colab_type": "text"
      },
      "source": [
        "<hr>\n",
        "\n",
        "## Parabéns!\n",
        "\n",
        "Se você já está satisfeito com a sua solução, vá até a página abaixo e envie os arquivos necessários para submissão.\n",
        "\n",
        "# https://lit.maratona.dev\n"
      ]
    },
    {
      "cell_type": "code",
      "metadata": {
        "id": "e9j-Y0iu_8Nt",
        "colab_type": "code",
        "colab": {}
      },
      "source": [
        ""
      ],
      "execution_count": null,
      "outputs": []
    }
  ]
}